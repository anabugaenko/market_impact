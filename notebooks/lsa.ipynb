{
 "cells": [
  {
   "cell_type": "code",
   "execution_count": 1,
   "metadata": {
    "ExecuteTime": {
     "end_time": "2023-12-28T15:47:23.675430Z",
     "start_time": "2023-12-28T15:47:23.069801Z"
    }
   },
   "outputs": [],
   "source": [
    "import os\n",
    "import numpy as np\n",
    "import pandas as pd\n",
    "from matplotlib import pyplot as plt\n",
    "from IPython.display import display"
   ]
  },
  {
   "cell_type": "code",
   "execution_count": 2,
   "metadata": {
    "ExecuteTime": {
     "end_time": "2023-12-28T15:47:24.299312Z",
     "start_time": "2023-12-28T15:47:24.285601Z"
    }
   },
   "outputs": [],
   "source": [
    "%load_ext autoreload\n",
    "%autoreload 2"
   ]
  },
  {
   "cell_type": "code",
   "execution_count": null,
   "metadata": {
    "ExecuteTime": {
     "end_time": "2023-12-25T13:52:13.269292Z",
     "start_time": "2023-12-25T13:52:13.267331Z"
    }
   },
   "outputs": [],
   "source": []
  },
  {
   "cell_type": "markdown",
   "metadata": {},
   "source": [
    "<!--\n",
    "Copyright 2023 Anastasia Bugaenko\n",
    "-->\n",
    "# Finite-Size Scaling by method of least-sqaures\n",
    "The finite-size scaling (FSS) method is a powerful tool that enables extraction of exponent of critical phenomena. Given data describing some dimensionless quantity, we estimate universal information from observables at finite-size system. The derivation of such scaling laws is supported by the renormalization-group argument. This notebook introduces a FSS based on the method of Leas-squares (LS) as performed by [Patzelt, Felix, and Jean-Philippe Bouchaud, 2018.](https://journals.aps.org/pre/abstract/10.1103/PhysRevE.97.012304)\n",
    "\n",
    "- Anastasia Bugaenko and Christian Wayi-Wayi: (in preparation)."
   ]
  },
  {
   "cell_type": "markdown",
   "metadata": {},
   "source": [
    "## Finite-size scaling of non-equilibrium phenomena\n",
    "The fiite-size scaling (FSS) law describes a case where the properties of probability distribution $p(x)$ and function (observable or curve) $\\mathscr{F}(x)$ of a system remain unchanged under any linear rescaling of the spatial or temporal random variate $x$.  Whereas in statistical mechanics the renormalisation occurs in space, for non-equilibrium problems the renormalisation occurs in time [Goldenfeld, Nigel, 2018.](https://www.taylorfrancis.com/books/mono/10.1201/9780429493492/lectures-phase-transitions-renormalization-group-nigel-goldenfeld) This can be written as\n",
    "$$\n",
    "A\\left(x, T\\right) = T^{\\chi} \\mathscr{F}\\left(xT^{-\\varkappa}\\right),\n",
    "$$\n",
    "wherein $x$ is a variable describing a physical system of which size is $T$. The exponents $\\chi$ and $\\varkappa$ are critical exponents with the critical point located at $x = T = 0$, and $\\mathscr{F}(\\cdot)$ is a scaling function which too exhibits universality. Thus, the FSS analysis is an inference of critical exponents $\\theta_c = (\\chi, \\varkappa)$ that describe the observable."
   ]
  },
  {
   "cell_type": "markdown",
   "metadata": {},
   "source": [
    "## Modeling a scaling function using a closed-form analytical expression of relationship between Volume Imbalance and Price Response"
   ]
  },
  {
   "cell_type": "markdown",
   "metadata": {},
   "source": [
    "### Preparation\n",
    "The following modules are required"
   ]
  },
  {
   "cell_type": "code",
   "execution_count": 5,
   "metadata": {
    "ExecuteTime": {
     "end_time": "2023-12-28T15:47:39.279568Z",
     "start_time": "2023-12-28T15:47:38.430200Z"
    }
   },
   "outputs": [],
   "source": [
    "from liquidity.features import compute_aggregate_features\n",
    "\n",
    "from market_impact.response_functions import aggregate_impact\n",
    "from market_impact.util.utils import bin_data_into_quantiles, smooth_outliers"
   ]
  },
  {
   "cell_type": "code",
   "execution_count": 8,
   "metadata": {
    "ExecuteTime": {
     "end_time": "2023-12-29T12:22:06.004697Z",
     "start_time": "2023-12-29T12:22:06.004608Z"
    }
   },
   "outputs": [],
   "source": [
    "from market_impact.fss import fit_scaling_form, fit_scaling_law\n",
    "from market_impact.function_form import scaling_function, scaling_form, scaling_law\n",
    "\n",
    "from market_impact.util.plot import plot_scaling_form, plot_scaling_law"
   ]
  },
  {
   "cell_type": "code",
   "execution_count": 9,
   "metadata": {
    "ExecuteTime": {
     "end_time": "2023-12-28T15:47:45.026162Z",
     "start_time": "2023-12-28T15:47:45.009222Z"
    }
   },
   "outputs": [],
   "source": [
    "BIN_SIZE = list(range(1, 150))\n",
    "OBSERVATION_WINDOWS = [5, 10, 20, 50, 100]"
   ]
  },
  {
   "cell_type": "markdown",
   "metadata": {},
   "source": [
    "The following are special modules for conducting the FSS by method of LS."
   ]
  },
  {
   "cell_type": "code",
   "execution_count": 10,
   "metadata": {
    "ExecuteTime": {
     "end_time": "2023-12-28T15:47:56.053681Z",
     "start_time": "2023-12-28T15:47:56.033854Z"
    }
   },
   "outputs": [],
   "source": [
    "from market_impact.fss import find_shape_parameters, find_scale_factors, transform"
   ]
  },
  {
   "cell_type": "markdown",
   "metadata": {},
   "source": [
    "### Dataset\n",
    "We first prepare the data. Each entry of the orderbook data correpsonds to a single event of type $\\pi$ (trade execution $MO$, limit order $LO$ deposit or cancellation $CA$, queues of active order $QA$) in the orderbook for a given asset (say a stock, APPL or TSLA)."
   ]
  },
  {
   "cell_type": "code",
   "execution_count": 11,
   "metadata": {
    "ExecuteTime": {
     "end_time": "2023-12-29T10:29:32.762819Z",
     "start_time": "2023-12-29T10:28:08.573707Z"
    }
   },
   "outputs": [
    {
     "data": {
      "text/html": [
       "<div>\n",
       "<style scoped>\n",
       "    .dataframe tbody tr th:only-of-type {\n",
       "        vertical-align: middle;\n",
       "    }\n",
       "\n",
       "    .dataframe tbody tr th {\n",
       "        vertical-align: top;\n",
       "    }\n",
       "\n",
       "    .dataframe thead th {\n",
       "        text-align: right;\n",
       "    }\n",
       "</style>\n",
       "<table border=\"1\" class=\"dataframe\">\n",
       "  <thead>\n",
       "    <tr style=\"text-align: right;\">\n",
       "      <th></th>\n",
       "      <th>Unnamed: 0</th>\n",
       "      <th>event_timestamp</th>\n",
       "      <th>sign</th>\n",
       "      <th>side</th>\n",
       "      <th>lob_action</th>\n",
       "      <th>order_executed</th>\n",
       "      <th>execution_price</th>\n",
       "      <th>size</th>\n",
       "      <th>ask</th>\n",
       "      <th>bid</th>\n",
       "      <th>...</th>\n",
       "      <th>average_vol_at_best</th>\n",
       "      <th>midprice_change</th>\n",
       "      <th>R1</th>\n",
       "      <th>spread</th>\n",
       "      <th>date</th>\n",
       "      <th>daily_R1</th>\n",
       "      <th>daily_vol</th>\n",
       "      <th>daily_num</th>\n",
       "      <th>norm_size</th>\n",
       "      <th>signed_volume</th>\n",
       "    </tr>\n",
       "  </thead>\n",
       "  <tbody>\n",
       "    <tr>\n",
       "      <th>0</th>\n",
       "      <td>0</td>\n",
       "      <td>2017-01-03 10:30:00.544161131</td>\n",
       "      <td>1</td>\n",
       "      <td>ASK</td>\n",
       "      <td>REMOVE</td>\n",
       "      <td>True</td>\n",
       "      <td>115.70</td>\n",
       "      <td>100</td>\n",
       "      <td>115.70</td>\n",
       "      <td>115.69</td>\n",
       "      <td>...</td>\n",
       "      <td>1045.040418</td>\n",
       "      <td>0.000</td>\n",
       "      <td>0.000</td>\n",
       "      <td>0.01</td>\n",
       "      <td>2017-01-03</td>\n",
       "      <td>0.004271</td>\n",
       "      <td>1398089</td>\n",
       "      <td>6170</td>\n",
       "      <td>0.095690</td>\n",
       "      <td>100</td>\n",
       "    </tr>\n",
       "    <tr>\n",
       "      <th>1</th>\n",
       "      <td>1</td>\n",
       "      <td>2017-01-03 10:30:02.758712611</td>\n",
       "      <td>-1</td>\n",
       "      <td>BID</td>\n",
       "      <td>REMOVE</td>\n",
       "      <td>True</td>\n",
       "      <td>115.69</td>\n",
       "      <td>153</td>\n",
       "      <td>115.70</td>\n",
       "      <td>115.69</td>\n",
       "      <td>...</td>\n",
       "      <td>762.184840</td>\n",
       "      <td>-0.010</td>\n",
       "      <td>0.010</td>\n",
       "      <td>0.01</td>\n",
       "      <td>2017-01-03</td>\n",
       "      <td>0.004271</td>\n",
       "      <td>1398089</td>\n",
       "      <td>6170</td>\n",
       "      <td>0.200739</td>\n",
       "      <td>-153</td>\n",
       "    </tr>\n",
       "    <tr>\n",
       "      <th>2</th>\n",
       "      <td>2</td>\n",
       "      <td>2017-01-03 10:30:02.852790059</td>\n",
       "      <td>1</td>\n",
       "      <td>ASK</td>\n",
       "      <td>REMOVE</td>\n",
       "      <td>True</td>\n",
       "      <td>115.69</td>\n",
       "      <td>200</td>\n",
       "      <td>115.69</td>\n",
       "      <td>115.68</td>\n",
       "      <td>...</td>\n",
       "      <td>1045.040418</td>\n",
       "      <td>0.010</td>\n",
       "      <td>0.010</td>\n",
       "      <td>0.01</td>\n",
       "      <td>2017-01-03</td>\n",
       "      <td>0.004271</td>\n",
       "      <td>1398089</td>\n",
       "      <td>6170</td>\n",
       "      <td>0.191380</td>\n",
       "      <td>200</td>\n",
       "    </tr>\n",
       "    <tr>\n",
       "      <th>3</th>\n",
       "      <td>3</td>\n",
       "      <td>2017-01-03 10:30:04.539218241</td>\n",
       "      <td>1</td>\n",
       "      <td>ASK</td>\n",
       "      <td>REMOVE</td>\n",
       "      <td>True</td>\n",
       "      <td>115.70</td>\n",
       "      <td>100</td>\n",
       "      <td>115.70</td>\n",
       "      <td>115.69</td>\n",
       "      <td>...</td>\n",
       "      <td>1045.040418</td>\n",
       "      <td>0.000</td>\n",
       "      <td>0.000</td>\n",
       "      <td>0.01</td>\n",
       "      <td>2017-01-03</td>\n",
       "      <td>0.004271</td>\n",
       "      <td>1398089</td>\n",
       "      <td>6170</td>\n",
       "      <td>0.095690</td>\n",
       "      <td>100</td>\n",
       "    </tr>\n",
       "    <tr>\n",
       "      <th>4</th>\n",
       "      <td>4</td>\n",
       "      <td>2017-01-03 10:30:07.865732286</td>\n",
       "      <td>1</td>\n",
       "      <td>ASK</td>\n",
       "      <td>UPDATE</td>\n",
       "      <td>True</td>\n",
       "      <td>115.70</td>\n",
       "      <td>10</td>\n",
       "      <td>115.70</td>\n",
       "      <td>115.69</td>\n",
       "      <td>...</td>\n",
       "      <td>1045.040418</td>\n",
       "      <td>0.000</td>\n",
       "      <td>0.000</td>\n",
       "      <td>0.01</td>\n",
       "      <td>2017-01-03</td>\n",
       "      <td>0.004271</td>\n",
       "      <td>1398089</td>\n",
       "      <td>6170</td>\n",
       "      <td>0.009569</td>\n",
       "      <td>10</td>\n",
       "    </tr>\n",
       "    <tr>\n",
       "      <th>...</th>\n",
       "      <td>...</td>\n",
       "      <td>...</td>\n",
       "      <td>...</td>\n",
       "      <td>...</td>\n",
       "      <td>...</td>\n",
       "      <td>...</td>\n",
       "      <td>...</td>\n",
       "      <td>...</td>\n",
       "      <td>...</td>\n",
       "      <td>...</td>\n",
       "      <td>...</td>\n",
       "      <td>...</td>\n",
       "      <td>...</td>\n",
       "      <td>...</td>\n",
       "      <td>...</td>\n",
       "      <td>...</td>\n",
       "      <td>...</td>\n",
       "      <td>...</td>\n",
       "      <td>...</td>\n",
       "      <td>...</td>\n",
       "      <td>...</td>\n",
       "    </tr>\n",
       "    <tr>\n",
       "      <th>2633973</th>\n",
       "      <td>6730</td>\n",
       "      <td>2017-12-29 14:59:22.595997049</td>\n",
       "      <td>1</td>\n",
       "      <td>ASK</td>\n",
       "      <td>REMOVE</td>\n",
       "      <td>True</td>\n",
       "      <td>169.99</td>\n",
       "      <td>200</td>\n",
       "      <td>169.99</td>\n",
       "      <td>169.98</td>\n",
       "      <td>...</td>\n",
       "      <td>773.098946</td>\n",
       "      <td>0.005</td>\n",
       "      <td>0.005</td>\n",
       "      <td>0.01</td>\n",
       "      <td>2017-12-29</td>\n",
       "      <td>0.030568</td>\n",
       "      <td>1452499</td>\n",
       "      <td>6735</td>\n",
       "      <td>0.258699</td>\n",
       "      <td>200</td>\n",
       "    </tr>\n",
       "    <tr>\n",
       "      <th>2633974</th>\n",
       "      <td>6731</td>\n",
       "      <td>2017-12-29 14:59:26.825179397</td>\n",
       "      <td>1</td>\n",
       "      <td>ASK</td>\n",
       "      <td>REMOVE</td>\n",
       "      <td>True</td>\n",
       "      <td>170.00</td>\n",
       "      <td>1200</td>\n",
       "      <td>170.00</td>\n",
       "      <td>169.98</td>\n",
       "      <td>...</td>\n",
       "      <td>773.098946</td>\n",
       "      <td>0.005</td>\n",
       "      <td>0.005</td>\n",
       "      <td>0.02</td>\n",
       "      <td>2017-12-29</td>\n",
       "      <td>0.030568</td>\n",
       "      <td>1452499</td>\n",
       "      <td>6735</td>\n",
       "      <td>1.552195</td>\n",
       "      <td>1200</td>\n",
       "    </tr>\n",
       "    <tr>\n",
       "      <th>2633975</th>\n",
       "      <td>6732</td>\n",
       "      <td>2017-12-29 14:59:58.621436793</td>\n",
       "      <td>-1</td>\n",
       "      <td>BID</td>\n",
       "      <td>UPDATE</td>\n",
       "      <td>True</td>\n",
       "      <td>169.99</td>\n",
       "      <td>300</td>\n",
       "      <td>170.00</td>\n",
       "      <td>169.99</td>\n",
       "      <td>...</td>\n",
       "      <td>725.867637</td>\n",
       "      <td>0.000</td>\n",
       "      <td>-0.000</td>\n",
       "      <td>0.01</td>\n",
       "      <td>2017-12-29</td>\n",
       "      <td>0.030568</td>\n",
       "      <td>1452499</td>\n",
       "      <td>6735</td>\n",
       "      <td>0.413298</td>\n",
       "      <td>-300</td>\n",
       "    </tr>\n",
       "    <tr>\n",
       "      <th>2633976</th>\n",
       "      <td>6733</td>\n",
       "      <td>2017-12-29 14:59:58.621758027</td>\n",
       "      <td>-1</td>\n",
       "      <td>BID</td>\n",
       "      <td>REMOVE</td>\n",
       "      <td>True</td>\n",
       "      <td>169.99</td>\n",
       "      <td>205</td>\n",
       "      <td>170.00</td>\n",
       "      <td>169.99</td>\n",
       "      <td>...</td>\n",
       "      <td>725.867637</td>\n",
       "      <td>-0.010</td>\n",
       "      <td>0.010</td>\n",
       "      <td>0.01</td>\n",
       "      <td>2017-12-29</td>\n",
       "      <td>0.030568</td>\n",
       "      <td>1452499</td>\n",
       "      <td>6735</td>\n",
       "      <td>0.282421</td>\n",
       "      <td>-205</td>\n",
       "    </tr>\n",
       "    <tr>\n",
       "      <th>2633977</th>\n",
       "      <td>6734</td>\n",
       "      <td>2017-12-29 14:59:58.621926530</td>\n",
       "      <td>1</td>\n",
       "      <td>ASK</td>\n",
       "      <td>UPDATE</td>\n",
       "      <td>True</td>\n",
       "      <td>169.99</td>\n",
       "      <td>69</td>\n",
       "      <td>169.99</td>\n",
       "      <td>169.98</td>\n",
       "      <td>...</td>\n",
       "      <td>773.098946</td>\n",
       "      <td>0.000</td>\n",
       "      <td>0.000</td>\n",
       "      <td>0.01</td>\n",
       "      <td>2017-12-29</td>\n",
       "      <td>0.030568</td>\n",
       "      <td>1452499</td>\n",
       "      <td>6735</td>\n",
       "      <td>0.089251</td>\n",
       "      <td>69</td>\n",
       "    </tr>\n",
       "  </tbody>\n",
       "</table>\n",
       "<p>2633978 rows × 26 columns</p>\n",
       "</div>"
      ],
      "text/plain": [
       "         Unnamed: 0                event_timestamp  sign side lob_action  \\\n",
       "0                 0  2017-01-03 10:30:00.544161131     1  ASK     REMOVE   \n",
       "1                 1  2017-01-03 10:30:02.758712611    -1  BID     REMOVE   \n",
       "2                 2  2017-01-03 10:30:02.852790059     1  ASK     REMOVE   \n",
       "3                 3  2017-01-03 10:30:04.539218241     1  ASK     REMOVE   \n",
       "4                 4  2017-01-03 10:30:07.865732286     1  ASK     UPDATE   \n",
       "...             ...                            ...   ...  ...        ...   \n",
       "2633973        6730  2017-12-29 14:59:22.595997049     1  ASK     REMOVE   \n",
       "2633974        6731  2017-12-29 14:59:26.825179397     1  ASK     REMOVE   \n",
       "2633975        6732  2017-12-29 14:59:58.621436793    -1  BID     UPDATE   \n",
       "2633976        6733  2017-12-29 14:59:58.621758027    -1  BID     REMOVE   \n",
       "2633977        6734  2017-12-29 14:59:58.621926530     1  ASK     UPDATE   \n",
       "\n",
       "         order_executed  execution_price  size     ask     bid  ...  \\\n",
       "0                  True           115.70   100  115.70  115.69  ...   \n",
       "1                  True           115.69   153  115.70  115.69  ...   \n",
       "2                  True           115.69   200  115.69  115.68  ...   \n",
       "3                  True           115.70   100  115.70  115.69  ...   \n",
       "4                  True           115.70    10  115.70  115.69  ...   \n",
       "...                 ...              ...   ...     ...     ...  ...   \n",
       "2633973            True           169.99   200  169.99  169.98  ...   \n",
       "2633974            True           170.00  1200  170.00  169.98  ...   \n",
       "2633975            True           169.99   300  170.00  169.99  ...   \n",
       "2633976            True           169.99   205  170.00  169.99  ...   \n",
       "2633977            True           169.99    69  169.99  169.98  ...   \n",
       "\n",
       "         average_vol_at_best  midprice_change     R1  spread        date  \\\n",
       "0                1045.040418            0.000  0.000    0.01  2017-01-03   \n",
       "1                 762.184840           -0.010  0.010    0.01  2017-01-03   \n",
       "2                1045.040418            0.010  0.010    0.01  2017-01-03   \n",
       "3                1045.040418            0.000  0.000    0.01  2017-01-03   \n",
       "4                1045.040418            0.000  0.000    0.01  2017-01-03   \n",
       "...                      ...              ...    ...     ...         ...   \n",
       "2633973           773.098946            0.005  0.005    0.01  2017-12-29   \n",
       "2633974           773.098946            0.005  0.005    0.02  2017-12-29   \n",
       "2633975           725.867637            0.000 -0.000    0.01  2017-12-29   \n",
       "2633976           725.867637           -0.010  0.010    0.01  2017-12-29   \n",
       "2633977           773.098946            0.000  0.000    0.01  2017-12-29   \n",
       "\n",
       "         daily_R1  daily_vol  daily_num  norm_size  signed_volume  \n",
       "0        0.004271    1398089       6170   0.095690            100  \n",
       "1        0.004271    1398089       6170   0.200739           -153  \n",
       "2        0.004271    1398089       6170   0.191380            200  \n",
       "3        0.004271    1398089       6170   0.095690            100  \n",
       "4        0.004271    1398089       6170   0.009569             10  \n",
       "...           ...        ...        ...        ...            ...  \n",
       "2633973  0.030568    1452499       6735   0.258699            200  \n",
       "2633974  0.030568    1452499       6735   1.552195           1200  \n",
       "2633975  0.030568    1452499       6735   0.413298           -300  \n",
       "2633976  0.030568    1452499       6735   0.282421           -205  \n",
       "2633977  0.030568    1452499       6735   0.089251             69  \n",
       "\n",
       "[2633978 rows x 26 columns]"
      ]
     },
     "metadata": {},
     "output_type": "display_data"
    }
   ],
   "source": [
    "current_dir = os.path.abspath('.')\n",
    "root_dir = os.path.join(current_dir, '..')\n",
    "data_dir = os.path.join(root_dir, 'dataset', 'MO_sample')\n",
    "filename = \"AAPL-2017-NEW.csv\" # APPLE Example\n",
    "stock_file_path = os.path.join(data_dir, filename)\n",
    "aapl_orderbook_states = pd.read_csv(stock_file_path)\n",
    "display(aapl_orderbook_states)"
   ]
  },
  {
   "cell_type": "markdown",
   "metadata": {},
   "source": [
    "### Conditional aggregate impact\n",
    " We first coarse-grain this data into different bin sizes, we marginalize over microscopic degrees of freedom in the system to yield an effective coarse-grained description at long distances."
   ]
  },
  {
   "cell_type": "code",
   "execution_count": 12,
   "metadata": {
    "ExecuteTime": {
     "end_time": "2023-12-28T15:51:04.975562Z",
     "start_time": "2023-12-28T15:50:13.370291Z"
    }
   },
   "outputs": [
    {
     "data": {
      "text/html": [
       "<div>\n",
       "<style scoped>\n",
       "    .dataframe tbody tr th:only-of-type {\n",
       "        vertical-align: middle;\n",
       "    }\n",
       "\n",
       "    .dataframe tbody tr th {\n",
       "        vertical-align: top;\n",
       "    }\n",
       "\n",
       "    .dataframe thead th {\n",
       "        text-align: right;\n",
       "    }\n",
       "</style>\n",
       "<table border=\"1\" class=\"dataframe\">\n",
       "  <thead>\n",
       "    <tr style=\"text-align: right;\">\n",
       "      <th></th>\n",
       "      <th>event_timestamp</th>\n",
       "      <th>midprice</th>\n",
       "      <th>sign</th>\n",
       "      <th>signed_volume</th>\n",
       "      <th>price_changing</th>\n",
       "      <th>daily_R1</th>\n",
       "      <th>daily_num</th>\n",
       "      <th>daily_vol</th>\n",
       "      <th>volume_imbalance</th>\n",
       "      <th>sign_imbalance</th>\n",
       "      <th>price_change_imbalance</th>\n",
       "      <th>average_vol_at_best</th>\n",
       "      <th>T</th>\n",
       "    </tr>\n",
       "  </thead>\n",
       "  <tbody>\n",
       "    <tr>\n",
       "      <th>0</th>\n",
       "      <td>2017-01-03 10:30:00.544161131</td>\n",
       "      <td>115.695</td>\n",
       "      <td>1</td>\n",
       "      <td>100</td>\n",
       "      <td>True</td>\n",
       "      <td>0.004271</td>\n",
       "      <td>6170</td>\n",
       "      <td>1398089</td>\n",
       "      <td>100</td>\n",
       "      <td>1</td>\n",
       "      <td>1</td>\n",
       "      <td>1045.040418</td>\n",
       "      <td>1</td>\n",
       "    </tr>\n",
       "    <tr>\n",
       "      <th>1</th>\n",
       "      <td>2017-01-03 10:30:02.758712611</td>\n",
       "      <td>115.695</td>\n",
       "      <td>-1</td>\n",
       "      <td>-153</td>\n",
       "      <td>True</td>\n",
       "      <td>0.004271</td>\n",
       "      <td>6170</td>\n",
       "      <td>1398089</td>\n",
       "      <td>-153</td>\n",
       "      <td>-1</td>\n",
       "      <td>1</td>\n",
       "      <td>762.184840</td>\n",
       "      <td>1</td>\n",
       "    </tr>\n",
       "    <tr>\n",
       "      <th>2</th>\n",
       "      <td>2017-01-03 10:30:02.852790059</td>\n",
       "      <td>115.685</td>\n",
       "      <td>1</td>\n",
       "      <td>200</td>\n",
       "      <td>True</td>\n",
       "      <td>0.004271</td>\n",
       "      <td>6170</td>\n",
       "      <td>1398089</td>\n",
       "      <td>200</td>\n",
       "      <td>1</td>\n",
       "      <td>1</td>\n",
       "      <td>1045.040418</td>\n",
       "      <td>1</td>\n",
       "    </tr>\n",
       "    <tr>\n",
       "      <th>3</th>\n",
       "      <td>2017-01-03 10:30:04.539218241</td>\n",
       "      <td>115.695</td>\n",
       "      <td>1</td>\n",
       "      <td>100</td>\n",
       "      <td>True</td>\n",
       "      <td>0.004271</td>\n",
       "      <td>6170</td>\n",
       "      <td>1398089</td>\n",
       "      <td>100</td>\n",
       "      <td>1</td>\n",
       "      <td>1</td>\n",
       "      <td>1045.040418</td>\n",
       "      <td>1</td>\n",
       "    </tr>\n",
       "    <tr>\n",
       "      <th>4</th>\n",
       "      <td>2017-01-03 10:30:07.865732286</td>\n",
       "      <td>115.695</td>\n",
       "      <td>1</td>\n",
       "      <td>10</td>\n",
       "      <td>False</td>\n",
       "      <td>0.004271</td>\n",
       "      <td>6170</td>\n",
       "      <td>1398089</td>\n",
       "      <td>10</td>\n",
       "      <td>1</td>\n",
       "      <td>0</td>\n",
       "      <td>1045.040418</td>\n",
       "      <td>1</td>\n",
       "    </tr>\n",
       "    <tr>\n",
       "      <th>...</th>\n",
       "      <td>...</td>\n",
       "      <td>...</td>\n",
       "      <td>...</td>\n",
       "      <td>...</td>\n",
       "      <td>...</td>\n",
       "      <td>...</td>\n",
       "      <td>...</td>\n",
       "      <td>...</td>\n",
       "      <td>...</td>\n",
       "      <td>...</td>\n",
       "      <td>...</td>\n",
       "      <td>...</td>\n",
       "      <td>...</td>\n",
       "    </tr>\n",
       "    <tr>\n",
       "      <th>17673</th>\n",
       "      <td>2017-12-29 14:13:10.007904919</td>\n",
       "      <td>169.965</td>\n",
       "      <td>1</td>\n",
       "      <td>700</td>\n",
       "      <td>True</td>\n",
       "      <td>0.030568</td>\n",
       "      <td>6735</td>\n",
       "      <td>1452499</td>\n",
       "      <td>-1029</td>\n",
       "      <td>9</td>\n",
       "      <td>78</td>\n",
       "      <td>773.098946</td>\n",
       "      <td>149</td>\n",
       "    </tr>\n",
       "    <tr>\n",
       "      <th>17674</th>\n",
       "      <td>2017-12-29 14:21:47.238059427</td>\n",
       "      <td>170.005</td>\n",
       "      <td>-1</td>\n",
       "      <td>-17</td>\n",
       "      <td>False</td>\n",
       "      <td>0.030568</td>\n",
       "      <td>6735</td>\n",
       "      <td>1452499</td>\n",
       "      <td>-12965</td>\n",
       "      <td>-27</td>\n",
       "      <td>79</td>\n",
       "      <td>725.867637</td>\n",
       "      <td>149</td>\n",
       "    </tr>\n",
       "    <tr>\n",
       "      <th>17675</th>\n",
       "      <td>2017-12-29 14:35:36.652311807</td>\n",
       "      <td>169.945</td>\n",
       "      <td>1</td>\n",
       "      <td>3</td>\n",
       "      <td>True</td>\n",
       "      <td>0.030568</td>\n",
       "      <td>6735</td>\n",
       "      <td>1452499</td>\n",
       "      <td>-5659</td>\n",
       "      <td>1</td>\n",
       "      <td>61</td>\n",
       "      <td>773.098946</td>\n",
       "      <td>149</td>\n",
       "    </tr>\n",
       "    <tr>\n",
       "      <th>17676</th>\n",
       "      <td>2017-12-29 14:44:14.692711793</td>\n",
       "      <td>169.985</td>\n",
       "      <td>-1</td>\n",
       "      <td>-71</td>\n",
       "      <td>True</td>\n",
       "      <td>0.030568</td>\n",
       "      <td>6735</td>\n",
       "      <td>1452499</td>\n",
       "      <td>-9528</td>\n",
       "      <td>-21</td>\n",
       "      <td>80</td>\n",
       "      <td>725.867637</td>\n",
       "      <td>149</td>\n",
       "    </tr>\n",
       "    <tr>\n",
       "      <th>17677</th>\n",
       "      <td>2017-12-29 14:54:18.170849575</td>\n",
       "      <td>169.980</td>\n",
       "      <td>1</td>\n",
       "      <td>50</td>\n",
       "      <td>False</td>\n",
       "      <td>0.030568</td>\n",
       "      <td>6735</td>\n",
       "      <td>1452499</td>\n",
       "      <td>-1312</td>\n",
       "      <td>1</td>\n",
       "      <td>59</td>\n",
       "      <td>773.098946</td>\n",
       "      <td>149</td>\n",
       "    </tr>\n",
       "  </tbody>\n",
       "</table>\n",
       "<p>14709556 rows × 13 columns</p>\n",
       "</div>"
      ],
      "text/plain": [
       "                    event_timestamp  midprice  sign  signed_volume  \\\n",
       "0     2017-01-03 10:30:00.544161131   115.695     1            100   \n",
       "1     2017-01-03 10:30:02.758712611   115.695    -1           -153   \n",
       "2     2017-01-03 10:30:02.852790059   115.685     1            200   \n",
       "3     2017-01-03 10:30:04.539218241   115.695     1            100   \n",
       "4     2017-01-03 10:30:07.865732286   115.695     1             10   \n",
       "...                             ...       ...   ...            ...   \n",
       "17673 2017-12-29 14:13:10.007904919   169.965     1            700   \n",
       "17674 2017-12-29 14:21:47.238059427   170.005    -1            -17   \n",
       "17675 2017-12-29 14:35:36.652311807   169.945     1              3   \n",
       "17676 2017-12-29 14:44:14.692711793   169.985    -1            -71   \n",
       "17677 2017-12-29 14:54:18.170849575   169.980     1             50   \n",
       "\n",
       "       price_changing  daily_R1  daily_num  daily_vol  volume_imbalance  \\\n",
       "0                True  0.004271       6170    1398089               100   \n",
       "1                True  0.004271       6170    1398089              -153   \n",
       "2                True  0.004271       6170    1398089               200   \n",
       "3                True  0.004271       6170    1398089               100   \n",
       "4               False  0.004271       6170    1398089                10   \n",
       "...               ...       ...        ...        ...               ...   \n",
       "17673            True  0.030568       6735    1452499             -1029   \n",
       "17674           False  0.030568       6735    1452499            -12965   \n",
       "17675            True  0.030568       6735    1452499             -5659   \n",
       "17676            True  0.030568       6735    1452499             -9528   \n",
       "17677           False  0.030568       6735    1452499             -1312   \n",
       "\n",
       "       sign_imbalance  price_change_imbalance  average_vol_at_best    T  \n",
       "0                   1                       1          1045.040418    1  \n",
       "1                  -1                       1           762.184840    1  \n",
       "2                   1                       1          1045.040418    1  \n",
       "3                   1                       1          1045.040418    1  \n",
       "4                   1                       0          1045.040418    1  \n",
       "...               ...                     ...                  ...  ...  \n",
       "17673               9                      78           773.098946  149  \n",
       "17674             -27                      79           725.867637  149  \n",
       "17675               1                      61           773.098946  149  \n",
       "17676             -21                      80           725.867637  149  \n",
       "17677               1                      59           773.098946  149  \n",
       "\n",
       "[14709556 rows x 13 columns]"
      ]
     },
     "metadata": {},
     "output_type": "display_data"
    }
   ],
   "source": [
    "aggregate_features = compute_aggregate_features(aapl_orderbook_states, BIN_SIZE)\n",
    "display(aggregate_features)"
   ]
  },
  {
   "cell_type": "markdown",
   "metadata": {},
   "source": [
    "### Data normalization\n",
    "\n",
    "From aggregate features, we can then compute conditional aggregate impact. Each line of our feature data will be converted into an aggregate impact dataframe consisting of three values {system size $T$, temperature $x$, observable $A$}. In our case these correspond to the contemporaneous bin size $T$, orderflow imbalance $\\Delta V$ and aggregate returns $R$ respectively.\n",
    "\n",
    "All data are automatically rescaled in preparation for a finite-size scaling. In particular, the temperature $\\Delta V$ and observable $R$ are rescaled each day by their corresponding values of $\\mathcal{R}(1)$ and either the average queue volume $\\overline{V}_{\\mathrm{best}}$ or daily volume  $V_D$  that represent constants of unit dimension and define a characteristic length scale. A similar rescaling works well for different asset instruments and asset classes."
   ]
  },
  {
   "cell_type": "code",
   "execution_count": 13,
   "metadata": {
    "ExecuteTime": {
     "end_time": "2023-12-24T14:36:58.331576Z",
     "start_time": "2023-12-24T14:36:56.195087Z"
    }
   },
   "outputs": [
    {
     "data": {
      "text/html": [
       "<div>\n",
       "<style scoped>\n",
       "    .dataframe tbody tr th:only-of-type {\n",
       "        vertical-align: middle;\n",
       "    }\n",
       "\n",
       "    .dataframe tbody tr th {\n",
       "        vertical-align: top;\n",
       "    }\n",
       "\n",
       "    .dataframe thead th {\n",
       "        text-align: right;\n",
       "    }\n",
       "</style>\n",
       "<table border=\"1\" class=\"dataframe\">\n",
       "  <thead>\n",
       "    <tr style=\"text-align: right;\">\n",
       "      <th></th>\n",
       "      <th>T</th>\n",
       "      <th>volume_imbalance</th>\n",
       "      <th>R</th>\n",
       "    </tr>\n",
       "  </thead>\n",
       "  <tbody>\n",
       "    <tr>\n",
       "      <th>0</th>\n",
       "      <td>1</td>\n",
       "      <td>0.000072</td>\n",
       "      <td>0.000000</td>\n",
       "    </tr>\n",
       "    <tr>\n",
       "      <th>1</th>\n",
       "      <td>1</td>\n",
       "      <td>-0.000109</td>\n",
       "      <td>-2.341556</td>\n",
       "    </tr>\n",
       "    <tr>\n",
       "      <th>2</th>\n",
       "      <td>1</td>\n",
       "      <td>0.000143</td>\n",
       "      <td>2.341556</td>\n",
       "    </tr>\n",
       "    <tr>\n",
       "      <th>3</th>\n",
       "      <td>1</td>\n",
       "      <td>0.000072</td>\n",
       "      <td>0.000000</td>\n",
       "    </tr>\n",
       "    <tr>\n",
       "      <th>4</th>\n",
       "      <td>1</td>\n",
       "      <td>0.000007</td>\n",
       "      <td>0.000000</td>\n",
       "    </tr>\n",
       "    <tr>\n",
       "      <th>...</th>\n",
       "      <td>...</td>\n",
       "      <td>...</td>\n",
       "      <td>...</td>\n",
       "    </tr>\n",
       "    <tr>\n",
       "      <th>17673</th>\n",
       "      <td>149</td>\n",
       "      <td>-0.000708</td>\n",
       "      <td>1.308561</td>\n",
       "    </tr>\n",
       "    <tr>\n",
       "      <th>17674</th>\n",
       "      <td>149</td>\n",
       "      <td>-0.008926</td>\n",
       "      <td>-1.962842</td>\n",
       "    </tr>\n",
       "    <tr>\n",
       "      <th>17675</th>\n",
       "      <td>149</td>\n",
       "      <td>-0.003896</td>\n",
       "      <td>1.308561</td>\n",
       "    </tr>\n",
       "    <tr>\n",
       "      <th>17676</th>\n",
       "      <td>149</td>\n",
       "      <td>-0.006560</td>\n",
       "      <td>-0.163570</td>\n",
       "    </tr>\n",
       "    <tr>\n",
       "      <th>17677</th>\n",
       "      <td>149</td>\n",
       "      <td>-0.000903</td>\n",
       "      <td>0.000000</td>\n",
       "    </tr>\n",
       "  </tbody>\n",
       "</table>\n",
       "<p>14709556 rows × 3 columns</p>\n",
       "</div>"
      ],
      "text/plain": [
       "         T  volume_imbalance         R\n",
       "0        1          0.000072  0.000000\n",
       "1        1         -0.000109 -2.341556\n",
       "2        1          0.000143  2.341556\n",
       "3        1          0.000072  0.000000\n",
       "4        1          0.000007  0.000000\n",
       "...    ...               ...       ...\n",
       "17673  149         -0.000708  1.308561\n",
       "17674  149         -0.008926 -1.962842\n",
       "17675  149         -0.003896  1.308561\n",
       "17676  149         -0.006560 -0.163570\n",
       "17677  149         -0.000903  0.000000\n",
       "\n",
       "[14709556 rows x 3 columns]"
      ]
     },
     "metadata": {},
     "output_type": "display_data"
    }
   ],
   "source": [
    "# Compute data for susceptibility\n",
    "normalized_data = aggregate_impact(aggregate_features, conditional_variable=\"volume_imbalance\") # normalization_constant=\"volume_at_best\"\n",
    "display(normalized_data)"
   ]
  },
  {
   "cell_type": "markdown",
   "metadata": {},
   "source": [
    "## Do the FSS"
   ]
  },
  {
   "cell_type": "markdown",
   "metadata": {},
   "source": [
    "### $1.$ Determine shape parameters $\\alpha$ and $\\beta$\n",
    "In order to determine the shape paremeters, the shape, the scaling form $R(\\Delta V^\\prime, T)$ is fitted for $\\textit{all}$ $Ts$using the scaling form Eq. X."
   ]
  },
  {
   "cell_type": "code",
   "execution_count": 14,
   "metadata": {},
   "outputs": [
    {
     "name": "stdout",
     "output_type": "stream",
     "text": [
      "alpha: 0.524603650600512\n",
      "beta: 2.706288366380384\n"
     ]
    }
   ],
   "source": [
    "alpha, beta = find_shape_parameters(normalized_data, reflect_y=False, imbalance_column=\"volume_imbalance\")\n",
    "print(f'alpha: {alpha}')\n",
    "print(f'beta: {beta}')"
   ]
  },
  {
   "cell_type": "markdown",
   "metadata": {},
   "source": [
    "### $2.$ Map out scale factors $V_T$ and $R_T$ and determine their behaviour.\n",
    "\n",
    "In order to determine the scaling behaviour and rescaling exponents $\\chi$ and $\\varkappa$ that follow, the shape of RN(\\Delta V, T) is fitted for $\\textit{each}$ T using the scaling form Eq. X with the scaling function $\\mathscr{F}(x)$ given by Eq. X whilst keeping the previously found values values of $\\alpha$ nad $\\beta$ constant. Note that the fitting of the scaling form to aggregate impact data that yield $R_T, V_T$ for each $T$ does not impose any assumptions on their scaling."
   ]
  },
  {
   "cell_type": "code",
   "execution_count": 15,
   "metadata": {
    "ExecuteTime": {
     "end_time": "2023-12-24T14:39:32.835852Z",
     "start_time": "2023-12-24T14:39:28.156131Z"
    }
   },
   "outputs": [],
   "source": [
    "RT_series, VT_series, RT_fit_object, VT_fit_object, fit_results_per_lag = find_scale_factors(normalized_data, alpha=alpha, beta=beta, reflect_y=False)"
   ]
  },
  {
   "cell_type": "code",
   "execution_count": 16,
   "metadata": {
    "ExecuteTime": {
     "end_time": "2023-12-24T14:39:33.064058Z",
     "start_time": "2023-12-24T14:39:32.836040Z"
    }
   },
   "outputs": [
    {
     "data": {
      "text/plain": [
       "[]"
      ]
     },
     "execution_count": 16,
     "metadata": {},
     "output_type": "execute_result"
    },
    {
     "data": {
      "image/png": "[encoded data removed]",
      "text/plain": [
       "<Figure size 960x720 with 1 Axes>"
      ]
     },
     "metadata": {},
     "output_type": "display_data"
    }
   ],
   "source": [
    "# Plot scale factors RN and QN\n",
    "plt.scatter(RT_series['x_values'],RT_series['y_values'])\n",
    "plt.scatter(VT_series['x_values'],VT_series['y_values'])\n",
    "plt.loglog()"
   ]
  },
  {
   "cell_type": "markdown",
   "metadata": {},
   "source": [
    "#### $2.2.$ From mapped out scale factors, determine scaling exponents $\\chi$ and $\\varkappa$"
   ]
  },
  {
   "cell_type": "code",
   "execution_count": 17,
   "metadata": {
    "ExecuteTime": {
     "end_time": "2023-12-24T14:39:33.078156Z",
     "start_time": "2023-12-24T14:39:33.063778Z"
    }
   },
   "outputs": [
    {
     "name": "stdout",
     "output_type": "stream",
     "text": [
      "0.9974642253181752\n",
      "0.7297068387374152\n"
     ]
    }
   ],
   "source": [
    "chi = RT_fit_object.powerlaw.params.alpha\n",
    "kappa = VT_fit_object.powerlaw.params.alpha\n",
    "print(chi)\n",
    "print(kappa)"
   ]
  },
  {
   "cell_type": "code",
   "execution_count": 18,
   "metadata": {
    "ExecuteTime": {
     "end_time": "2023-12-24T14:39:33.310690Z",
     "start_time": "2023-12-24T14:39:33.078459Z"
    }
   },
   "outputs": [
    {
     "name": "stdout",
     "output_type": "stream",
     "text": [
      "\n",
      "For powerlaw fitted using MLE:\n",
      "\n",
      "Pre-fitting parameters;\n",
      "xmin_index: 10\n",
      "xmin: 11.0\n",
      "\n",
      "Fitting parameters;\n",
      "param_names = ['C', 'alpha']\n",
      "C = 0.20514043641567317\n",
      "alpha = 0.9974642253181752\n",
      "\n",
      "Goodness of fit to data;\n",
      "D = 0.007194244604316547\n",
      "bic = -1581.7798466797685\n",
      "mape = 0.016714966903486738\n",
      "Adjusted R-squared = 0.9999998408152859\n",
      "\n",
      "\n",
      "\n",
      "For powerlaw fitted using MLE:\n",
      "\n",
      "Pre-fitting parameters;\n",
      "xmin_index: 10\n",
      "xmin: 11.0\n",
      "\n",
      "Fitting parameters;\n",
      "param_names = ['C', 'alpha']\n",
      "C = 0.00022325955521759815\n",
      "alpha = 0.7297068387374152\n",
      "\n",
      "Goodness of fit to data;\n",
      "D = 0.02158273381294964\n",
      "bic = -2645.425773752919\n",
      "mape = 1.1406721701781546\n",
      "Adjusted R-squared = 0.9988326496617586\n",
      "\n",
      "\n"
     ]
    },
    {
     "data": {
      "image/png": "[encoded data removed]",
      "text/plain": [
       "<Figure size 960x720 with 1 Axes>"
      ]
     },
     "metadata": {},
     "output_type": "display_data"
    },
    {
     "data": {
      "image/png": "[encoded data removed]",
      "text/plain": [
       "<Figure size 960x720 with 1 Axes>"
      ]
     },
     "metadata": {},
     "output_type": "display_data"
    }
   ],
   "source": [
    "# Fit results\n",
    "RT_fit_object.powerlaw.fit_results()\n",
    "VT_fit_object.powerlaw.fit_results()\n",
    "RT_fit_object.powerlaw.plot_fit()\n",
    "VT_fit_object.powerlaw.plot_fit()"
   ]
  },
  {
   "cell_type": "code",
   "execution_count": 19,
   "metadata": {
    "ExecuteTime": {
     "end_time": "2023-12-24T14:39:33.341959Z",
     "start_time": "2023-12-24T14:39:33.310778Z"
    }
   },
   "outputs": [
    {
     "name": "stdout",
     "output_type": "stream",
     "text": [
      "Power law vs. powerlaw_with_exp_svf\n"
     ]
    },
    {
     "data": {
      "text/html": [
       "<div>\n",
       "<style scoped>\n",
       "    .dataframe tbody tr th:only-of-type {\n",
       "        vertical-align: middle;\n",
       "    }\n",
       "\n",
       "    .dataframe tbody tr th {\n",
       "        vertical-align: top;\n",
       "    }\n",
       "\n",
       "    .dataframe thead th {\n",
       "        text-align: right;\n",
       "    }\n",
       "</style>\n",
       "<table border=\"1\" class=\"dataframe\">\n",
       "  <thead>\n",
       "    <tr style=\"text-align: right;\">\n",
       "      <th></th>\n",
       "      <th>name</th>\n",
       "      <th>xmin_index</th>\n",
       "      <th>xmin</th>\n",
       "      <th>fitting param</th>\n",
       "      <th>D</th>\n",
       "      <th>bic</th>\n",
       "      <th>mape</th>\n",
       "      <th>adjusted r-squared</th>\n",
       "    </tr>\n",
       "  </thead>\n",
       "  <tbody>\n",
       "    <tr>\n",
       "      <th>0</th>\n",
       "      <td>powerlaw</td>\n",
       "      <td>10</td>\n",
       "      <td>11.0</td>\n",
       "      <td>{'param_names': ['C', 'alpha'], 'C': 0.2051404...</td>\n",
       "      <td>0.0072</td>\n",
       "      <td>-1581.7798</td>\n",
       "      <td>0.0167</td>\n",
       "      <td>1.0000</td>\n",
       "    </tr>\n",
       "    <tr>\n",
       "      <th>1</th>\n",
       "      <td>OLS</td>\n",
       "      <td>10</td>\n",
       "      <td>11.0</td>\n",
       "      <td>{'param_names': ['C', 'alpha'], 'C': 0.2053549...</td>\n",
       "      <td>0.0072</td>\n",
       "      <td>-1550.6966</td>\n",
       "      <td>0.0146</td>\n",
       "      <td>1.0000</td>\n",
       "    </tr>\n",
       "    <tr>\n",
       "      <th>2</th>\n",
       "      <td>GeneralisedRegression</td>\n",
       "      <td>10</td>\n",
       "      <td>11.0</td>\n",
       "      <td>{'param_names': ['C', 'alpha'], 'C': 0.2053549...</td>\n",
       "      <td>0.0072</td>\n",
       "      <td>-1550.6966</td>\n",
       "      <td>0.0146</td>\n",
       "      <td>1.0000</td>\n",
       "    </tr>\n",
       "    <tr>\n",
       "      <th>3</th>\n",
       "      <td>RobustRegression</td>\n",
       "      <td>10</td>\n",
       "      <td>11.0</td>\n",
       "      <td>{'param_names': ['C', 'alpha'], 'C': 0.2053432...</td>\n",
       "      <td>0.0072</td>\n",
       "      <td>-1556.3780</td>\n",
       "      <td>0.0145</td>\n",
       "      <td>1.0000</td>\n",
       "    </tr>\n",
       "    <tr>\n",
       "      <th>4</th>\n",
       "      <td>exponential_function</td>\n",
       "      <td>10</td>\n",
       "      <td>11.0</td>\n",
       "      <td>{'param_names': ['beta', 'lambda_'], 'beta': 5...</td>\n",
       "      <td>0.1511</td>\n",
       "      <td>164.9240</td>\n",
       "      <td>18.7040</td>\n",
       "      <td>0.9544</td>\n",
       "    </tr>\n",
       "    <tr>\n",
       "      <th>5</th>\n",
       "      <td>lognormal_function</td>\n",
       "      <td>10</td>\n",
       "      <td>11.0</td>\n",
       "      <td>{'param_names': ['mu', 'sigma'], 'mu': 0.0, 's...</td>\n",
       "      <td>1.0000</td>\n",
       "      <td>820.5333</td>\n",
       "      <td>100.0000</td>\n",
       "      <td>-4.1020</td>\n",
       "    </tr>\n",
       "  </tbody>\n",
       "</table>\n",
       "</div>"
      ],
      "text/plain": [
       "                    name  xmin_index  xmin  \\\n",
       "0               powerlaw          10  11.0   \n",
       "1                    OLS          10  11.0   \n",
       "2  GeneralisedRegression          10  11.0   \n",
       "3       RobustRegression          10  11.0   \n",
       "4   exponential_function          10  11.0   \n",
       "5     lognormal_function          10  11.0   \n",
       "\n",
       "                                       fitting param       D        bic  \\\n",
       "0  {'param_names': ['C', 'alpha'], 'C': 0.2051404...  0.0072 -1581.7798   \n",
       "1  {'param_names': ['C', 'alpha'], 'C': 0.2053549...  0.0072 -1550.6966   \n",
       "2  {'param_names': ['C', 'alpha'], 'C': 0.2053549...  0.0072 -1550.6966   \n",
       "3  {'param_names': ['C', 'alpha'], 'C': 0.2053432...  0.0072 -1556.3780   \n",
       "4  {'param_names': ['beta', 'lambda_'], 'beta': 5...  0.1511   164.9240   \n",
       "5  {'param_names': ['mu', 'sigma'], 'mu': 0.0, 's...  1.0000   820.5333   \n",
       "\n",
       "       mape  adjusted r-squared  \n",
       "0    0.0167              1.0000  \n",
       "1    0.0146              1.0000  \n",
       "2    0.0146              1.0000  \n",
       "3    0.0145              1.0000  \n",
       "4   18.7040              0.9544  \n",
       "5  100.0000             -4.1020  "
      ]
     },
     "metadata": {},
     "output_type": "display_data"
    }
   ],
   "source": [
    "# Compare scaling of Height against alternative heavy-tailed hypothesis\n",
    "print(\"Power law vs. powerlaw_with_exp_svf\")\n",
    "R, p = RT_fit_object.function_compare(\"powerlaw\", \"exponential_function\")\n",
    "R, p = RT_fit_object.function_compare(\"powerlaw\", \"lognormal_function\")\n",
    "\n",
    "display(RT_fit_object.return_all_fitting_results())"
   ]
  },
  {
   "cell_type": "code",
   "execution_count": 20,
   "metadata": {
    "ExecuteTime": {
     "end_time": "2023-12-24T14:39:33.403630Z",
     "start_time": "2023-12-24T14:39:33.343686Z"
    }
   },
   "outputs": [
    {
     "name": "stdout",
     "output_type": "stream",
     "text": [
      "Power law vs. powerlaw_with_exp_svf\n"
     ]
    },
    {
     "data": {
      "text/html": [
       "<div>\n",
       "<style scoped>\n",
       "    .dataframe tbody tr th:only-of-type {\n",
       "        vertical-align: middle;\n",
       "    }\n",
       "\n",
       "    .dataframe tbody tr th {\n",
       "        vertical-align: top;\n",
       "    }\n",
       "\n",
       "    .dataframe thead th {\n",
       "        text-align: right;\n",
       "    }\n",
       "</style>\n",
       "<table border=\"1\" class=\"dataframe\">\n",
       "  <thead>\n",
       "    <tr style=\"text-align: right;\">\n",
       "      <th></th>\n",
       "      <th>name</th>\n",
       "      <th>xmin_index</th>\n",
       "      <th>xmin</th>\n",
       "      <th>fitting param</th>\n",
       "      <th>D</th>\n",
       "      <th>bic</th>\n",
       "      <th>mape</th>\n",
       "      <th>adjusted r-squared</th>\n",
       "    </tr>\n",
       "  </thead>\n",
       "  <tbody>\n",
       "    <tr>\n",
       "      <th>0</th>\n",
       "      <td>powerlaw</td>\n",
       "      <td>10</td>\n",
       "      <td>11.0</td>\n",
       "      <td>{'param_names': ['C', 'alpha'], 'C': 0.0002232...</td>\n",
       "      <td>0.0216</td>\n",
       "      <td>-2645.4258</td>\n",
       "      <td>1.1407</td>\n",
       "      <td>0.9988</td>\n",
       "    </tr>\n",
       "    <tr>\n",
       "      <th>1</th>\n",
       "      <td>OLS</td>\n",
       "      <td>10</td>\n",
       "      <td>11.0</td>\n",
       "      <td>{'param_names': ['C', 'alpha'], 'C': 0.0002374...</td>\n",
       "      <td>0.0288</td>\n",
       "      <td>-2616.1314</td>\n",
       "      <td>1.0401</td>\n",
       "      <td>0.9986</td>\n",
       "    </tr>\n",
       "    <tr>\n",
       "      <th>2</th>\n",
       "      <td>GeneralisedRegression</td>\n",
       "      <td>10</td>\n",
       "      <td>11.0</td>\n",
       "      <td>{'param_names': ['C', 'alpha'], 'C': 0.0002374...</td>\n",
       "      <td>0.0288</td>\n",
       "      <td>-2616.1314</td>\n",
       "      <td>1.0401</td>\n",
       "      <td>0.9986</td>\n",
       "    </tr>\n",
       "    <tr>\n",
       "      <th>3</th>\n",
       "      <td>RobustRegression</td>\n",
       "      <td>10</td>\n",
       "      <td>11.0</td>\n",
       "      <td>{'param_names': ['C', 'alpha'], 'C': 0.0002368...</td>\n",
       "      <td>0.0288</td>\n",
       "      <td>-2616.1300</td>\n",
       "      <td>1.0355</td>\n",
       "      <td>0.9986</td>\n",
       "    </tr>\n",
       "    <tr>\n",
       "      <th>4</th>\n",
       "      <td>exponential_function</td>\n",
       "      <td>10</td>\n",
       "      <td>11.0</td>\n",
       "      <td>{'param_names': ['beta', 'lambda_'], 'beta': 0...</td>\n",
       "      <td>0.1367</td>\n",
       "      <td>-2121.3200</td>\n",
       "      <td>11.0687</td>\n",
       "      <td>0.9493</td>\n",
       "    </tr>\n",
       "    <tr>\n",
       "      <th>5</th>\n",
       "      <td>lognormal_function</td>\n",
       "      <td>10</td>\n",
       "      <td>11.0</td>\n",
       "      <td>{'param_names': ['mu', 'sigma'], 'mu': 0.0, 's...</td>\n",
       "      <td>1.0000</td>\n",
       "      <td>-1421.7666</td>\n",
       "      <td>100.0000</td>\n",
       "      <td>-6.7701</td>\n",
       "    </tr>\n",
       "  </tbody>\n",
       "</table>\n",
       "</div>"
      ],
      "text/plain": [
       "                    name  xmin_index  xmin  \\\n",
       "0               powerlaw          10  11.0   \n",
       "1                    OLS          10  11.0   \n",
       "2  GeneralisedRegression          10  11.0   \n",
       "3       RobustRegression          10  11.0   \n",
       "4   exponential_function          10  11.0   \n",
       "5     lognormal_function          10  11.0   \n",
       "\n",
       "                                       fitting param       D        bic  \\\n",
       "0  {'param_names': ['C', 'alpha'], 'C': 0.0002232...  0.0216 -2645.4258   \n",
       "1  {'param_names': ['C', 'alpha'], 'C': 0.0002374...  0.0288 -2616.1314   \n",
       "2  {'param_names': ['C', 'alpha'], 'C': 0.0002374...  0.0288 -2616.1314   \n",
       "3  {'param_names': ['C', 'alpha'], 'C': 0.0002368...  0.0288 -2616.1300   \n",
       "4  {'param_names': ['beta', 'lambda_'], 'beta': 0...  0.1367 -2121.3200   \n",
       "5  {'param_names': ['mu', 'sigma'], 'mu': 0.0, 's...  1.0000 -1421.7666   \n",
       "\n",
       "       mape  adjusted r-squared  \n",
       "0    1.1407              0.9988  \n",
       "1    1.0401              0.9986  \n",
       "2    1.0401              0.9986  \n",
       "3    1.0355              0.9986  \n",
       "4   11.0687              0.9493  \n",
       "5  100.0000             -6.7701  "
      ]
     },
     "metadata": {},
     "output_type": "display_data"
    }
   ],
   "source": [
    "# Compare scaling of Width against alternative heavy-tailed hypothesis\n",
    "print(\"Power law vs. powerlaw_with_exp_svf\")\n",
    "R, p = VT_fit_object.function_compare(\"powerlaw\", \"exponential_function\")\n",
    "R, p = VT_fit_object.function_compare(\"powerlaw\", \"lognormal_function\")\n",
    "\n",
    "display(VT_fit_object.return_all_fitting_results())"
   ]
  },
  {
   "cell_type": "markdown",
   "metadata": {},
   "source": [
    "### $3.1$ Plot the scaling law before and after the transformation/ renomalization\n",
    "\n",
    "We can now substitute the found emeprical scaling laws for RN and QN and use this law fit the final shape parameters $\\alpha$ and $\\beta$, and rescaling exponents $\\chi$ and $\\varkappa$."
   ]
  },
  {
   "cell_type": "code",
   "execution_count": 21,
   "metadata": {
    "ExecuteTime": {
     "end_time": "2023-12-24T14:39:34.044959Z",
     "start_time": "2023-12-24T14:39:33.371733Z"
    }
   },
   "outputs": [],
   "source": [
    "# Plot final rescaled functions\n",
    "OBSERVATION_WINDOWS = [x for x in OBSERVATION_WINDOWS if x in VT_series['x_values'].values]\n",
    "\n",
    "# Smooth data for plotting purposes\n",
    "smoothed_data = smooth_outliers(normalized_data.copy())\n",
    "\n",
    "fit_param = {}\n",
    "for T in OBSERVATION_WINDOWS:\n",
    "    data = normalized_data[normalized_data['T']==T][[\"T\", \"volume_imbalance\", \"R\"]]\n",
    "    data.replace([np.inf, -np.inf], np.nan, inplace=False)\n",
    "    data.dropna(inplace=True)\n",
    "\n",
    "    binned_data = bin_data_into_quantiles(data, q=len(BIN_SIZE), duplicates=\"drop\")\n",
    "\n",
    "    T_values = binned_data['T'].values\n",
    "    volume_imbalance = binned_data['volume_imbalance'].values\n",
    "    R_values = binned_data['R'].values\n",
    "\n",
    "    params = fit_scaling_form(T_values, volume_imbalance, R_values, reflect_y=False)\n",
    "    fit_param[T] = params"
   ]
  },
  {
   "cell_type": "code",
   "execution_count": 22,
   "metadata": {
    "ExecuteTime": {
     "end_time": "2023-12-24T15:02:51.281772Z",
     "start_time": "2023-12-24T15:02:50.938204Z"
    }
   },
   "outputs": [
    {
     "data": {
      "image/png": "[encoded data removed]",
      "text/plain": [
       "<Figure size 675x600 with 1 Axes>"
      ]
     },
     "metadata": {},
     "output_type": "display_data"
    }
   ],
   "source": [
    "plot_scaling_form(smoothed_data=smoothed_data, fit_parameters=fit_param, q=21)"
   ]
  },
  {
   "cell_type": "markdown",
   "metadata": {},
   "source": [
    "#### $3.1.$ Transformer function\n",
    "The transformer function defines the transformation of our three variables to the new variables $(X, Y)$. It needs the initial values of the shape parameters, critical exponents $\\chi$ and $\\varkappa$ from the master curve (scaling law) to perform the renormalization by method of least_squares."
   ]
  },
  {
   "cell_type": "code",
   "execution_count": 23,
   "metadata": {
    "ExecuteTime": {
     "end_time": "2023-12-24T14:53:08.491122Z",
     "start_time": "2023-12-24T14:49:56.213850Z"
    }
   },
   "outputs": [],
   "source": [
    "# Prepare the data for fitting\n",
    "T_values = normalized_data['T'].values\n",
    "volume_imbalance_values = normalized_data['volume_imbalance'].values\n",
    "R_values = normalized_data['R'].values\n",
    "\n",
    "# Fit data for all Ts\n",
    "master_curve_param = fit_scaling_law(T_values, volume_imbalance_values, R_values, reflect_y=False)\n",
    "\n"
   ]
  },
  {
   "cell_type": "code",
   "execution_count": 24,
   "metadata": {},
   "outputs": [
    {
     "name": "stdout",
     "output_type": "stream",
     "text": [
      "chi: 0.5815543378395173\n",
      "kappa: 0.9176168449583451\n",
      "alpha: 0.401916872341553\n",
      "beta: 30.315944653819344\n",
      "CONST: 68326.45750375345\n"
     ]
    }
   ],
   "source": [
    "# Retrieve optimized parameters as constants\n",
    "chi, kappa, alpha, beta, CONST = master_curve_param\n",
    "print(f'chi: {chi}')\n",
    "print(f'kappa: {kappa}')\n",
    "print(f'alpha: {alpha}')\n",
    "print(f'beta: {beta}')\n",
    "print(f'CONST: {CONST}')"
   ]
  },
  {
   "cell_type": "code",
   "execution_count": 25,
   "metadata": {
    "ExecuteTime": {
     "end_time": "2023-12-24T14:53:08.902274Z",
     "start_time": "2023-12-24T14:53:08.491213Z"
    }
   },
   "outputs": [],
   "source": [
    "# Transform/ normalize scaling parameters\n",
    "rescaled_params = transform(smoothed_data, master_curve_param, OBSERVATION_WINDOWS, reflect_y=False)"
   ]
  },
  {
   "cell_type": "markdown",
   "metadata": {},
   "source": [
    "We plot a scaling function rescaled by critical paramters $\\chi$ and $\\varkappa$."
   ]
  },
  {
   "cell_type": "code",
   "execution_count": 26,
   "metadata": {
    "ExecuteTime": {
     "end_time": "2023-12-24T15:02:55.594340Z",
     "start_time": "2023-12-24T15:02:55.419760Z"
    }
   },
   "outputs": [
    {
     "data": {
      "image/png": "[encoded data removed]",
      "text/plain": [
       "<Figure size 675x600 with 1 Axes>"
      ]
     },
     "metadata": {},
     "output_type": "display_data"
    }
   ],
   "source": [
    "plot_scaling_law(rescaled_parameters=rescaled_params, q=21)"
   ]
  },
  {
   "cell_type": "code",
   "execution_count": 23,
   "metadata": {},
   "outputs": [],
   "source": [
    "# TODO: Also return new paramters after transform"
   ]
  },
  {
   "cell_type": "code",
   "execution_count": null,
   "metadata": {},
   "outputs": [],
   "source": []
  }
 ],
 "metadata": {
  "kernelspec": {
   "display_name": "Python 3 (ipykernel)",
   "language": "python",
   "name": "python3"
  },
  "language_info": {
   "codemirror_mode": {
    "name": "ipython",
    "version": 3
   },
   "file_extension": ".py",
   "mimetype": "text/x-python",
   "name": "python",
   "nbconvert_exporter": "python",
   "pygments_lexer": "ipython3",
   "version": "3.11.5"
  }
 },
 "nbformat": 4,
 "nbformat_minor": 1
}
