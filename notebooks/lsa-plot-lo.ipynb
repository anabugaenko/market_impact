{
 "cells": [
  {
   "cell_type": "code",
   "execution_count": 123,
   "metadata": {
    "collapsed": true,
    "ExecuteTime": {
     "start_time": "2023-12-11T05:54:40.743295Z",
     "end_time": "2023-12-11T05:54:43.895635Z"
    }
   },
   "outputs": [],
   "source": [
    "import os\n",
    "import pandas as pd\n",
    "import numpy as np\n",
    "from IPython.display import display\n",
    "from matplotlib import pyplot as plt"
   ]
  },
  {
   "cell_type": "code",
   "execution_count": 124,
   "outputs": [
    {
     "name": "stdout",
     "output_type": "stream",
     "text": [
      "The autoreload extension is already loaded. To reload it, use:\n",
      "  %reload_ext autoreload\n"
     ]
    }
   ],
   "source": [
    "%load_ext autoreload\n",
    "%autoreload 2"
   ],
   "metadata": {
    "collapsed": false,
    "ExecuteTime": {
     "start_time": "2023-12-11T05:54:40.804615Z",
     "end_time": "2023-12-11T05:54:43.895881Z"
    }
   }
  },
  {
   "cell_type": "markdown",
   "source": [
    "## Doing FSS analysis via the method nonlinear least squares\n",
    "\n",
    "If we use new rescaled variables\n",
    "\\begin{align*}\n",
    "X &= (x-x)L^{c_1},\\\\\n",
    "Y &= A/L^{-c_2} = A L^{c_2},\n",
    "\\end{align*}\n",
    "then the FSS law writes\n",
    "$$\n",
    "Y = \\mathscr{F}[X],\n",
    "$$\n",
    "such that rescaled data points $(X_\\theta, Y_\\theta)_i = (X_i, Y_i)$, fall onto a single scaling function $\\mathscr{F}$ (i.e., the master curve).\n",
    "\n",
    "we are particularly interested in scaling laws that govern the shape of master curves for conditional aggregate impact $R(\\Delta V^\\prime, T)$.\n",
    "\n",
    "where we have an explicit generating functional  $\\mathscr{F}(x)$  to compute."
   ],
   "metadata": {
    "collapsed": false
   }
  },
  {
   "cell_type": "markdown",
   "source": [
    "### Preparation\n",
    "The following modules are required"
   ],
   "metadata": {
    "collapsed": false
   }
  },
  {
   "cell_type": "code",
   "execution_count": 125,
   "outputs": [],
   "source": [
    "from liquidity.features import compute_aggregate_features\n",
    "\n",
    "from market_impact.util.utils import bin_data_into_quantiles, smooth_outliers\n",
    "from market_impact.response_functions.price_response_functions import compute_conditional_impact"
   ],
   "metadata": {
    "collapsed": false,
    "ExecuteTime": {
     "start_time": "2023-12-11T05:54:41.231656Z",
     "end_time": "2023-12-11T05:54:43.947250Z"
    }
   }
  },
  {
   "cell_type": "code",
   "execution_count": 126,
   "outputs": [],
   "source": [
    "# BIN_SIZE = list(range(1, 150))\n",
    "# BIN_SIZE = [50, 100, 150, 200, 250]\n",
    "BIN_SIZE = list(range(10, 250, 10))\n",
    "OBSERVATION_WINDOWS = [5, 10, 20, 50, 100]"
   ],
   "metadata": {
    "collapsed": false,
    "ExecuteTime": {
     "start_time": "2023-12-11T05:54:41.247352Z",
     "end_time": "2023-12-11T05:54:43.960015Z"
    }
   }
  },
  {
   "cell_type": "code",
   "execution_count": 126,
   "outputs": [],
   "source": [],
   "metadata": {
    "collapsed": false,
    "ExecuteTime": {
     "start_time": "2023-12-11T05:54:41.259923Z",
     "end_time": "2023-12-11T05:54:43.960145Z"
    }
   }
  },
  {
   "cell_type": "markdown",
   "source": [
    "The following are special modules for conducting the FSS by method of LS."
   ],
   "metadata": {
    "collapsed": false
   }
  },
  {
   "cell_type": "code",
   "execution_count": 127,
   "outputs": [],
   "source": [
    "from market_impact.response_functions.fss import find_shape_parameters, find_scale_factors, transform"
   ],
   "metadata": {
    "collapsed": false,
    "ExecuteTime": {
     "start_time": "2023-12-11T05:54:41.467284Z",
     "end_time": "2023-12-11T05:54:43.962077Z"
    }
   }
  },
  {
   "cell_type": "markdown",
   "source": [
    "### Dataset\n",
    "\n",
    "We first prepare the data. Each entry of the orderbook data correpsonds to a single event of type $\\pi$ (trade execution, limit order deposit or cancellation) in the orderbook for a given asset (say a stock, APPL or TSLA)."
   ],
   "metadata": {
    "collapsed": false
   }
  },
  {
   "cell_type": "code",
   "execution_count": 128,
   "outputs": [
    {
     "data": {
      "text/plain": "         Unnamed: 0                event_timestamp side lob_action  \\\n0            390273  2017-01-03 10:30:01.413328333  ASK     INSERT   \n1            390303  2017-01-03 10:30:04.434831516  BID     INSERT   \n2            390308  2017-01-03 10:30:04.897653064  BID     INSERT   \n3            390315  2017-01-03 10:30:05.455967414  BID     INSERT   \n4            390329  2017-01-03 10:30:06.670219376  ASK     INSERT   \n...             ...                            ...  ...        ...   \n3937175      146414  2017-12-29 14:59:54.499379166  ASK     INSERT   \n3937176      146421  2017-12-29 14:59:54.531701098  BID     INSERT   \n3937177      146425  2017-12-29 14:59:54.794697347  BID     INSERT   \n3937178      146429  2017-12-29 14:59:57.939337264  ASK     INSERT   \n3937179      146431  2017-12-29 14:59:57.939378589  ASK     INSERT   \n\n         order_executed  execution_price  execution_size      ask  ask_volume  \\\n0                 False              NaN               0     0.00         0.0   \n1                 False              NaN               0   756.14         2.0   \n2                 False              NaN               0   756.14         2.0   \n3                 False              NaN               0   756.14         2.0   \n4                 False              NaN               0   756.14         2.0   \n...                 ...              ...             ...      ...         ...   \n3937175           False              NaN               0  1170.89        60.0   \n3937176           False              NaN               0  1170.92      1651.0   \n3937177           False              NaN               0  1170.92      1651.0   \n3937178           False              NaN               0  1170.92      1651.0   \n3937179           False              NaN               0  1170.91      1100.0   \n\n             bid  ...  sign  midprice_change       R1  spread        date  \\\n0           0.00  ...     1          755.925  755.925    0.00  2017-01-03   \n1         755.71  ...    -1            0.000   -0.000    0.43  2017-01-03   \n2         755.71  ...    -1            0.010   -0.010    0.43  2017-01-03   \n3         755.73  ...    -1            0.000   -0.000    0.41  2017-01-03   \n4         755.73  ...     1           -0.020   -0.020    0.41  2017-01-03   \n...          ...  ...   ...              ...      ...     ...         ...   \n3937175  1170.76  ...     1           -0.065   -0.065    0.13  2017-12-29   \n3937176  1170.60  ...    -1            0.050   -0.050    0.32  2017-12-29   \n3937177  1170.70  ...    -1            0.000   -0.000    0.22  2017-12-29   \n3937178  1170.70  ...     1           -0.005   -0.005    0.22  2017-12-29   \n3937179  1170.70  ...     1            0.000    0.000    0.21  2017-12-29   \n\n         daily_R1  daily_vol  daily_num  norm_size  signed_volume  \n0        0.035696    1166443      16117   0.876150            100  \n1        0.035696    1166443      16117   0.634288           -100  \n2        0.035696    1166443      16117   0.634288           -100  \n3        0.035696    1166443      16117   0.038057             -6  \n4        0.035696    1166443      16117   0.569497             65  \n...           ...        ...        ...        ...            ...  \n3937175 -0.014813     564276      15104   0.140454             15  \n3937176 -0.014813     564276      15104   0.821716           -100  \n3937177 -0.014813     564276      15104   0.821716           -100  \n3937178 -0.014813     564276      15104  10.299989           1100  \n3937179 -0.014813     564276      15104   0.046818              5  \n\n[3937180 rows x 33 columns]",
      "text/html": "<div>\n<style scoped>\n    .dataframe tbody tr th:only-of-type {\n        vertical-align: middle;\n    }\n\n    .dataframe tbody tr th {\n        vertical-align: top;\n    }\n\n    .dataframe thead th {\n        text-align: right;\n    }\n</style>\n<table border=\"1\" class=\"dataframe\">\n  <thead>\n    <tr style=\"text-align: right;\">\n      <th></th>\n      <th>Unnamed: 0</th>\n      <th>event_timestamp</th>\n      <th>side</th>\n      <th>lob_action</th>\n      <th>order_executed</th>\n      <th>execution_price</th>\n      <th>execution_size</th>\n      <th>ask</th>\n      <th>ask_volume</th>\n      <th>bid</th>\n      <th>...</th>\n      <th>sign</th>\n      <th>midprice_change</th>\n      <th>R1</th>\n      <th>spread</th>\n      <th>date</th>\n      <th>daily_R1</th>\n      <th>daily_vol</th>\n      <th>daily_num</th>\n      <th>norm_size</th>\n      <th>signed_volume</th>\n    </tr>\n  </thead>\n  <tbody>\n    <tr>\n      <th>0</th>\n      <td>390273</td>\n      <td>2017-01-03 10:30:01.413328333</td>\n      <td>ASK</td>\n      <td>INSERT</td>\n      <td>False</td>\n      <td>NaN</td>\n      <td>0</td>\n      <td>0.00</td>\n      <td>0.0</td>\n      <td>0.00</td>\n      <td>...</td>\n      <td>1</td>\n      <td>755.925</td>\n      <td>755.925</td>\n      <td>0.00</td>\n      <td>2017-01-03</td>\n      <td>0.035696</td>\n      <td>1166443</td>\n      <td>16117</td>\n      <td>0.876150</td>\n      <td>100</td>\n    </tr>\n    <tr>\n      <th>1</th>\n      <td>390303</td>\n      <td>2017-01-03 10:30:04.434831516</td>\n      <td>BID</td>\n      <td>INSERT</td>\n      <td>False</td>\n      <td>NaN</td>\n      <td>0</td>\n      <td>756.14</td>\n      <td>2.0</td>\n      <td>755.71</td>\n      <td>...</td>\n      <td>-1</td>\n      <td>0.000</td>\n      <td>-0.000</td>\n      <td>0.43</td>\n      <td>2017-01-03</td>\n      <td>0.035696</td>\n      <td>1166443</td>\n      <td>16117</td>\n      <td>0.634288</td>\n      <td>-100</td>\n    </tr>\n    <tr>\n      <th>2</th>\n      <td>390308</td>\n      <td>2017-01-03 10:30:04.897653064</td>\n      <td>BID</td>\n      <td>INSERT</td>\n      <td>False</td>\n      <td>NaN</td>\n      <td>0</td>\n      <td>756.14</td>\n      <td>2.0</td>\n      <td>755.71</td>\n      <td>...</td>\n      <td>-1</td>\n      <td>0.010</td>\n      <td>-0.010</td>\n      <td>0.43</td>\n      <td>2017-01-03</td>\n      <td>0.035696</td>\n      <td>1166443</td>\n      <td>16117</td>\n      <td>0.634288</td>\n      <td>-100</td>\n    </tr>\n    <tr>\n      <th>3</th>\n      <td>390315</td>\n      <td>2017-01-03 10:30:05.455967414</td>\n      <td>BID</td>\n      <td>INSERT</td>\n      <td>False</td>\n      <td>NaN</td>\n      <td>0</td>\n      <td>756.14</td>\n      <td>2.0</td>\n      <td>755.73</td>\n      <td>...</td>\n      <td>-1</td>\n      <td>0.000</td>\n      <td>-0.000</td>\n      <td>0.41</td>\n      <td>2017-01-03</td>\n      <td>0.035696</td>\n      <td>1166443</td>\n      <td>16117</td>\n      <td>0.038057</td>\n      <td>-6</td>\n    </tr>\n    <tr>\n      <th>4</th>\n      <td>390329</td>\n      <td>2017-01-03 10:30:06.670219376</td>\n      <td>ASK</td>\n      <td>INSERT</td>\n      <td>False</td>\n      <td>NaN</td>\n      <td>0</td>\n      <td>756.14</td>\n      <td>2.0</td>\n      <td>755.73</td>\n      <td>...</td>\n      <td>1</td>\n      <td>-0.020</td>\n      <td>-0.020</td>\n      <td>0.41</td>\n      <td>2017-01-03</td>\n      <td>0.035696</td>\n      <td>1166443</td>\n      <td>16117</td>\n      <td>0.569497</td>\n      <td>65</td>\n    </tr>\n    <tr>\n      <th>...</th>\n      <td>...</td>\n      <td>...</td>\n      <td>...</td>\n      <td>...</td>\n      <td>...</td>\n      <td>...</td>\n      <td>...</td>\n      <td>...</td>\n      <td>...</td>\n      <td>...</td>\n      <td>...</td>\n      <td>...</td>\n      <td>...</td>\n      <td>...</td>\n      <td>...</td>\n      <td>...</td>\n      <td>...</td>\n      <td>...</td>\n      <td>...</td>\n      <td>...</td>\n      <td>...</td>\n    </tr>\n    <tr>\n      <th>3937175</th>\n      <td>146414</td>\n      <td>2017-12-29 14:59:54.499379166</td>\n      <td>ASK</td>\n      <td>INSERT</td>\n      <td>False</td>\n      <td>NaN</td>\n      <td>0</td>\n      <td>1170.89</td>\n      <td>60.0</td>\n      <td>1170.76</td>\n      <td>...</td>\n      <td>1</td>\n      <td>-0.065</td>\n      <td>-0.065</td>\n      <td>0.13</td>\n      <td>2017-12-29</td>\n      <td>-0.014813</td>\n      <td>564276</td>\n      <td>15104</td>\n      <td>0.140454</td>\n      <td>15</td>\n    </tr>\n    <tr>\n      <th>3937176</th>\n      <td>146421</td>\n      <td>2017-12-29 14:59:54.531701098</td>\n      <td>BID</td>\n      <td>INSERT</td>\n      <td>False</td>\n      <td>NaN</td>\n      <td>0</td>\n      <td>1170.92</td>\n      <td>1651.0</td>\n      <td>1170.60</td>\n      <td>...</td>\n      <td>-1</td>\n      <td>0.050</td>\n      <td>-0.050</td>\n      <td>0.32</td>\n      <td>2017-12-29</td>\n      <td>-0.014813</td>\n      <td>564276</td>\n      <td>15104</td>\n      <td>0.821716</td>\n      <td>-100</td>\n    </tr>\n    <tr>\n      <th>3937177</th>\n      <td>146425</td>\n      <td>2017-12-29 14:59:54.794697347</td>\n      <td>BID</td>\n      <td>INSERT</td>\n      <td>False</td>\n      <td>NaN</td>\n      <td>0</td>\n      <td>1170.92</td>\n      <td>1651.0</td>\n      <td>1170.70</td>\n      <td>...</td>\n      <td>-1</td>\n      <td>0.000</td>\n      <td>-0.000</td>\n      <td>0.22</td>\n      <td>2017-12-29</td>\n      <td>-0.014813</td>\n      <td>564276</td>\n      <td>15104</td>\n      <td>0.821716</td>\n      <td>-100</td>\n    </tr>\n    <tr>\n      <th>3937178</th>\n      <td>146429</td>\n      <td>2017-12-29 14:59:57.939337264</td>\n      <td>ASK</td>\n      <td>INSERT</td>\n      <td>False</td>\n      <td>NaN</td>\n      <td>0</td>\n      <td>1170.92</td>\n      <td>1651.0</td>\n      <td>1170.70</td>\n      <td>...</td>\n      <td>1</td>\n      <td>-0.005</td>\n      <td>-0.005</td>\n      <td>0.22</td>\n      <td>2017-12-29</td>\n      <td>-0.014813</td>\n      <td>564276</td>\n      <td>15104</td>\n      <td>10.299989</td>\n      <td>1100</td>\n    </tr>\n    <tr>\n      <th>3937179</th>\n      <td>146431</td>\n      <td>2017-12-29 14:59:57.939378589</td>\n      <td>ASK</td>\n      <td>INSERT</td>\n      <td>False</td>\n      <td>NaN</td>\n      <td>0</td>\n      <td>1170.91</td>\n      <td>1100.0</td>\n      <td>1170.70</td>\n      <td>...</td>\n      <td>1</td>\n      <td>0.000</td>\n      <td>0.000</td>\n      <td>0.21</td>\n      <td>2017-12-29</td>\n      <td>-0.014813</td>\n      <td>564276</td>\n      <td>15104</td>\n      <td>0.046818</td>\n      <td>5</td>\n    </tr>\n  </tbody>\n</table>\n<p>3937180 rows × 33 columns</p>\n</div>"
     },
     "metadata": {},
     "output_type": "display_data"
    }
   ],
   "source": [
    "current_dir = os.path.abspath('.')\n",
    "root_dir = os.path.join(current_dir, '..')\n",
    "data_dir = os.path.join(root_dir, 'dataset', 'LO_sample')\n",
    "filename = \"AMZN-2017-NEW.csv\" # APPLE Example\n",
    "stock_file_path = os.path.join(data_dir, filename)\n",
    "aapl_orderbook_states = pd.read_csv(stock_file_path)\n",
    "display(aapl_orderbook_states)"
   ],
   "metadata": {
    "collapsed": false,
    "ExecuteTime": {
     "start_time": "2023-12-11T05:54:41.704095Z",
     "end_time": "2023-12-11T05:54:51.515411Z"
    }
   }
  },
  {
   "cell_type": "markdown",
   "source": [
    " We first coarse-grain this data into different bin sizes, we marginalize over microscopic degrees of freedom in the system to yield an effective coarse-grained description at long distances."
   ],
   "metadata": {
    "collapsed": false
   }
  },
  {
   "cell_type": "code",
   "execution_count": 129,
   "outputs": [
    {
     "data": {
      "text/plain": "                    event_timestamp  midprice  sign  signed_volume  daily_R1  \\\n0     2017-01-03 10:30:01.413328333     0.000     1            100  0.035696   \n1     2017-01-03 10:30:10.132729215   755.935    -1            -31  0.035696   \n2     2017-01-03 10:30:12.175154801   756.150    -1           -100  0.035696   \n3     2017-01-03 10:30:12.339765159   756.155    -1           -100  0.035696   \n4     2017-01-03 10:30:13.431796025   756.165    -1           -100  0.035696   \n...                             ...       ...   ...            ...       ...   \n16400 2017-12-29 14:33:01.629432288  1172.820    -1             -4 -0.014813   \n16401 2017-12-29 14:38:41.326765524  1171.630    -1            -10 -0.014813   \n16402 2017-12-29 14:43:41.526037612  1170.715     1            100 -0.014813   \n16403 2017-12-29 14:49:18.138741331  1170.220    -1            -99 -0.014813   \n16404 2017-12-29 14:54:32.683658302  1169.710    -1           -100 -0.014813   \n\n       daily_vol  daily_num  volume_imbalance  sign_imbalance    T  \n0        1166443      16117         -0.000087        0.000000   10  \n1        1166443      16117         -0.000492       -0.000496   10  \n2        1166443      16117         -0.000187       -0.000620   10  \n3        1166443      16117         -0.000505       -0.000620   10  \n4        1166443      16117         -0.000385       -0.000620   10  \n...          ...        ...               ...             ...  ...  \n16400     564276      15104          0.012545        0.003178  240  \n16401     564276      15104          0.015009        0.006621  240  \n16402     564276      15104          0.001965        0.002251  240  \n16403     564276      15104         -0.003009        0.001192  240  \n16404     564276      15104          0.000581       -0.002781  240  \n\n[1486671 rows x 10 columns]",
      "text/html": "<div>\n<style scoped>\n    .dataframe tbody tr th:only-of-type {\n        vertical-align: middle;\n    }\n\n    .dataframe tbody tr th {\n        vertical-align: top;\n    }\n\n    .dataframe thead th {\n        text-align: right;\n    }\n</style>\n<table border=\"1\" class=\"dataframe\">\n  <thead>\n    <tr style=\"text-align: right;\">\n      <th></th>\n      <th>event_timestamp</th>\n      <th>midprice</th>\n      <th>sign</th>\n      <th>signed_volume</th>\n      <th>daily_R1</th>\n      <th>daily_vol</th>\n      <th>daily_num</th>\n      <th>volume_imbalance</th>\n      <th>sign_imbalance</th>\n      <th>T</th>\n    </tr>\n  </thead>\n  <tbody>\n    <tr>\n      <th>0</th>\n      <td>2017-01-03 10:30:01.413328333</td>\n      <td>0.000</td>\n      <td>1</td>\n      <td>100</td>\n      <td>0.035696</td>\n      <td>1166443</td>\n      <td>16117</td>\n      <td>-0.000087</td>\n      <td>0.000000</td>\n      <td>10</td>\n    </tr>\n    <tr>\n      <th>1</th>\n      <td>2017-01-03 10:30:10.132729215</td>\n      <td>755.935</td>\n      <td>-1</td>\n      <td>-31</td>\n      <td>0.035696</td>\n      <td>1166443</td>\n      <td>16117</td>\n      <td>-0.000492</td>\n      <td>-0.000496</td>\n      <td>10</td>\n    </tr>\n    <tr>\n      <th>2</th>\n      <td>2017-01-03 10:30:12.175154801</td>\n      <td>756.150</td>\n      <td>-1</td>\n      <td>-100</td>\n      <td>0.035696</td>\n      <td>1166443</td>\n      <td>16117</td>\n      <td>-0.000187</td>\n      <td>-0.000620</td>\n      <td>10</td>\n    </tr>\n    <tr>\n      <th>3</th>\n      <td>2017-01-03 10:30:12.339765159</td>\n      <td>756.155</td>\n      <td>-1</td>\n      <td>-100</td>\n      <td>0.035696</td>\n      <td>1166443</td>\n      <td>16117</td>\n      <td>-0.000505</td>\n      <td>-0.000620</td>\n      <td>10</td>\n    </tr>\n    <tr>\n      <th>4</th>\n      <td>2017-01-03 10:30:13.431796025</td>\n      <td>756.165</td>\n      <td>-1</td>\n      <td>-100</td>\n      <td>0.035696</td>\n      <td>1166443</td>\n      <td>16117</td>\n      <td>-0.000385</td>\n      <td>-0.000620</td>\n      <td>10</td>\n    </tr>\n    <tr>\n      <th>...</th>\n      <td>...</td>\n      <td>...</td>\n      <td>...</td>\n      <td>...</td>\n      <td>...</td>\n      <td>...</td>\n      <td>...</td>\n      <td>...</td>\n      <td>...</td>\n      <td>...</td>\n    </tr>\n    <tr>\n      <th>16400</th>\n      <td>2017-12-29 14:33:01.629432288</td>\n      <td>1172.820</td>\n      <td>-1</td>\n      <td>-4</td>\n      <td>-0.014813</td>\n      <td>564276</td>\n      <td>15104</td>\n      <td>0.012545</td>\n      <td>0.003178</td>\n      <td>240</td>\n    </tr>\n    <tr>\n      <th>16401</th>\n      <td>2017-12-29 14:38:41.326765524</td>\n      <td>1171.630</td>\n      <td>-1</td>\n      <td>-10</td>\n      <td>-0.014813</td>\n      <td>564276</td>\n      <td>15104</td>\n      <td>0.015009</td>\n      <td>0.006621</td>\n      <td>240</td>\n    </tr>\n    <tr>\n      <th>16402</th>\n      <td>2017-12-29 14:43:41.526037612</td>\n      <td>1170.715</td>\n      <td>1</td>\n      <td>100</td>\n      <td>-0.014813</td>\n      <td>564276</td>\n      <td>15104</td>\n      <td>0.001965</td>\n      <td>0.002251</td>\n      <td>240</td>\n    </tr>\n    <tr>\n      <th>16403</th>\n      <td>2017-12-29 14:49:18.138741331</td>\n      <td>1170.220</td>\n      <td>-1</td>\n      <td>-99</td>\n      <td>-0.014813</td>\n      <td>564276</td>\n      <td>15104</td>\n      <td>-0.003009</td>\n      <td>0.001192</td>\n      <td>240</td>\n    </tr>\n    <tr>\n      <th>16404</th>\n      <td>2017-12-29 14:54:32.683658302</td>\n      <td>1169.710</td>\n      <td>-1</td>\n      <td>-100</td>\n      <td>-0.014813</td>\n      <td>564276</td>\n      <td>15104</td>\n      <td>0.000581</td>\n      <td>-0.002781</td>\n      <td>240</td>\n    </tr>\n  </tbody>\n</table>\n<p>1486671 rows × 10 columns</p>\n</div>"
     },
     "metadata": {},
     "output_type": "display_data"
    }
   ],
   "source": [
    "aggregate_features = compute_aggregate_features(aapl_orderbook_states, BIN_SIZE)\n",
    "display(aggregate_features)"
   ],
   "metadata": {
    "collapsed": false,
    "ExecuteTime": {
     "start_time": "2023-12-11T05:54:51.511645Z",
     "end_time": "2023-12-11T05:55:09.403108Z"
    }
   }
  },
  {
   "cell_type": "markdown",
   "source": [
    "### Data normalization\n",
    "\n",
    "From aggregate features, we can then compute conditional aggregate impact. Each line of our aggregate feature data will be converted into an aggregate impact dataframe consisting of three values {system size $T$, temperature $x$, observable $A$}. In our case these correspond to the contemporaneous bin size $T$, orderflow imbalance $\\Delta V$ and aggregate returns $R$ respectively.\n",
    "\n",
    "All data are automatically rescaled in preparation for a finite-size scaling. In particular, the temperature $\\Delta V$ and observable $R$ are rescaled each day by their corresponding values of $\\mathcal{R}(1)$ and either the average queue volume $\\overline{V}_{\\mathrm{best}}$ or  daily volume  $V_D$  that represent constants of unit dimension that define a characteristic length scale. A similar rescaling works well for different asset classes."
   ],
   "metadata": {
    "collapsed": false
   }
  },
  {
   "cell_type": "code",
   "execution_count": 130,
   "outputs": [
    {
     "data": {
      "text/plain": "                    event_timestamp  midprice  sign  signed_volume  daily_R1  \\\n0     2017-01-03 10:30:01.413328333     0.000     1            100  0.035696   \n1     2017-01-03 10:30:10.132729215   755.935    -1            -31  0.035696   \n2     2017-01-03 10:30:12.175154801   756.150    -1           -100  0.035696   \n3     2017-01-03 10:30:12.339765159   756.155    -1           -100  0.035696   \n4     2017-01-03 10:30:13.431796025   756.165    -1           -100  0.035696   \n...                             ...       ...   ...            ...       ...   \n16400 2017-12-29 14:33:01.629432288  1172.820    -1             -4 -0.014813   \n16401 2017-12-29 14:38:41.326765524  1171.630    -1            -10 -0.014813   \n16402 2017-12-29 14:43:41.526037612  1170.715     1            100 -0.014813   \n16403 2017-12-29 14:49:18.138741331  1170.220    -1            -99 -0.014813   \n16404 2017-12-29 14:54:32.683658302  1169.710    -1           -100 -0.014813   \n\n       daily_vol  daily_num  volume_imbalance  sign_imbalance    T  \\\n0        1166443      16117         -0.000087        0.000000   10   \n1        1166443      16117         -0.000492       -0.000496   10   \n2        1166443      16117         -0.000187       -0.000620   10   \n3        1166443      16117         -0.000505       -0.000620   10   \n4        1166443      16117         -0.000385       -0.000620   10   \n...          ...        ...               ...             ...  ...   \n16400     564276      15104          0.012545        0.003178  240   \n16401     564276      15104          0.015009        0.006621  240   \n16402     564276      15104          0.001965        0.002251  240   \n16403     564276      15104         -0.003009        0.001192  240   \n16404     564276      15104          0.000581       -0.002781  240   \n\n                  R  \n0      21176.744064  \n1          6.023005  \n2          0.140070  \n3          0.280140  \n4          0.000000  \n...             ...  \n16400    -80.335039  \n16401    -61.770219  \n16402    -33.416676  \n16403    -34.429303  \n16404      0.000000  \n\n[1486671 rows x 11 columns]",
      "text/html": "<div>\n<style scoped>\n    .dataframe tbody tr th:only-of-type {\n        vertical-align: middle;\n    }\n\n    .dataframe tbody tr th {\n        vertical-align: top;\n    }\n\n    .dataframe thead th {\n        text-align: right;\n    }\n</style>\n<table border=\"1\" class=\"dataframe\">\n  <thead>\n    <tr style=\"text-align: right;\">\n      <th></th>\n      <th>event_timestamp</th>\n      <th>midprice</th>\n      <th>sign</th>\n      <th>signed_volume</th>\n      <th>daily_R1</th>\n      <th>daily_vol</th>\n      <th>daily_num</th>\n      <th>volume_imbalance</th>\n      <th>sign_imbalance</th>\n      <th>T</th>\n      <th>R</th>\n    </tr>\n  </thead>\n  <tbody>\n    <tr>\n      <th>0</th>\n      <td>2017-01-03 10:30:01.413328333</td>\n      <td>0.000</td>\n      <td>1</td>\n      <td>100</td>\n      <td>0.035696</td>\n      <td>1166443</td>\n      <td>16117</td>\n      <td>-0.000087</td>\n      <td>0.000000</td>\n      <td>10</td>\n      <td>21176.744064</td>\n    </tr>\n    <tr>\n      <th>1</th>\n      <td>2017-01-03 10:30:10.132729215</td>\n      <td>755.935</td>\n      <td>-1</td>\n      <td>-31</td>\n      <td>0.035696</td>\n      <td>1166443</td>\n      <td>16117</td>\n      <td>-0.000492</td>\n      <td>-0.000496</td>\n      <td>10</td>\n      <td>6.023005</td>\n    </tr>\n    <tr>\n      <th>2</th>\n      <td>2017-01-03 10:30:12.175154801</td>\n      <td>756.150</td>\n      <td>-1</td>\n      <td>-100</td>\n      <td>0.035696</td>\n      <td>1166443</td>\n      <td>16117</td>\n      <td>-0.000187</td>\n      <td>-0.000620</td>\n      <td>10</td>\n      <td>0.140070</td>\n    </tr>\n    <tr>\n      <th>3</th>\n      <td>2017-01-03 10:30:12.339765159</td>\n      <td>756.155</td>\n      <td>-1</td>\n      <td>-100</td>\n      <td>0.035696</td>\n      <td>1166443</td>\n      <td>16117</td>\n      <td>-0.000505</td>\n      <td>-0.000620</td>\n      <td>10</td>\n      <td>0.280140</td>\n    </tr>\n    <tr>\n      <th>4</th>\n      <td>2017-01-03 10:30:13.431796025</td>\n      <td>756.165</td>\n      <td>-1</td>\n      <td>-100</td>\n      <td>0.035696</td>\n      <td>1166443</td>\n      <td>16117</td>\n      <td>-0.000385</td>\n      <td>-0.000620</td>\n      <td>10</td>\n      <td>0.000000</td>\n    </tr>\n    <tr>\n      <th>...</th>\n      <td>...</td>\n      <td>...</td>\n      <td>...</td>\n      <td>...</td>\n      <td>...</td>\n      <td>...</td>\n      <td>...</td>\n      <td>...</td>\n      <td>...</td>\n      <td>...</td>\n      <td>...</td>\n    </tr>\n    <tr>\n      <th>16400</th>\n      <td>2017-12-29 14:33:01.629432288</td>\n      <td>1172.820</td>\n      <td>-1</td>\n      <td>-4</td>\n      <td>-0.014813</td>\n      <td>564276</td>\n      <td>15104</td>\n      <td>0.012545</td>\n      <td>0.003178</td>\n      <td>240</td>\n      <td>-80.335039</td>\n    </tr>\n    <tr>\n      <th>16401</th>\n      <td>2017-12-29 14:38:41.326765524</td>\n      <td>1171.630</td>\n      <td>-1</td>\n      <td>-10</td>\n      <td>-0.014813</td>\n      <td>564276</td>\n      <td>15104</td>\n      <td>0.015009</td>\n      <td>0.006621</td>\n      <td>240</td>\n      <td>-61.770219</td>\n    </tr>\n    <tr>\n      <th>16402</th>\n      <td>2017-12-29 14:43:41.526037612</td>\n      <td>1170.715</td>\n      <td>1</td>\n      <td>100</td>\n      <td>-0.014813</td>\n      <td>564276</td>\n      <td>15104</td>\n      <td>0.001965</td>\n      <td>0.002251</td>\n      <td>240</td>\n      <td>-33.416676</td>\n    </tr>\n    <tr>\n      <th>16403</th>\n      <td>2017-12-29 14:49:18.138741331</td>\n      <td>1170.220</td>\n      <td>-1</td>\n      <td>-99</td>\n      <td>-0.014813</td>\n      <td>564276</td>\n      <td>15104</td>\n      <td>-0.003009</td>\n      <td>0.001192</td>\n      <td>240</td>\n      <td>-34.429303</td>\n    </tr>\n    <tr>\n      <th>16404</th>\n      <td>2017-12-29 14:54:32.683658302</td>\n      <td>1169.710</td>\n      <td>-1</td>\n      <td>-100</td>\n      <td>-0.014813</td>\n      <td>564276</td>\n      <td>15104</td>\n      <td>0.000581</td>\n      <td>-0.002781</td>\n      <td>240</td>\n      <td>0.000000</td>\n    </tr>\n  </tbody>\n</table>\n<p>1486671 rows × 11 columns</p>\n</div>"
     },
     "metadata": {},
     "output_type": "display_data"
    }
   ],
   "source": [
    "# Compute data for susceptibility – conditional aggregate impact\n",
    "normalized_data = compute_conditional_impact(aggregate_features)\n",
    "display(normalized_data)"
   ],
   "metadata": {
    "collapsed": false,
    "ExecuteTime": {
     "start_time": "2023-12-11T05:55:09.403665Z",
     "end_time": "2023-12-11T05:55:09.542811Z"
    }
   }
  },
  {
   "cell_type": "code",
   "execution_count": 130,
   "outputs": [],
   "source": [],
   "metadata": {
    "collapsed": false,
    "ExecuteTime": {
     "start_time": "2023-12-11T05:55:09.504908Z",
     "end_time": "2023-12-11T05:55:09.542897Z"
    }
   }
  },
  {
   "cell_type": "markdown",
   "source": [
    "### $1.$ Determine shape parameters $\\alpha$ and $\\beta$\n",
    "In order to determine the shape paremeters, the shape, the scaling form $R(\\Delta V^\\prime, T)$ is fitted for $\\textit{all}$ $T$s using the scaling form Eq. X."
   ],
   "metadata": {
    "collapsed": false
   }
  },
  {
   "cell_type": "code",
   "execution_count": 131,
   "outputs": [],
   "source": [
    "from market_impact import fit_scaling_form\n",
    "\n",
    "\n",
    "def find_shape_parameters_inverse(normalized_data: pd.DataFrame):\n",
    "    \"\"\"\n",
    "    :param normalized_data: normalized dataframe consisting {system_size_T, temperature_x, observable_A}\n",
    "    which map over to observationw windows, orderflowimbalance and aggregate impact {T, imbalance, R} respective.\n",
    "    :return: shape_parameters: a list consisting of scaling form shape parameters alpha and beta.\n",
    "    \"\"\"\n",
    "    data = normalized_data.copy()\n",
    "\n",
    "    # Extract variables describing the system\n",
    "    T_values = data['T'].values\n",
    "    volume_imbalance_values = -data['volume_imbalance'].values\n",
    "    R_values = data['R'].values\n",
    "\n",
    "    # Find scaling form shape parameters\n",
    "    RN, QN, alpha, beta, CONST = fit_scaling_form(T_values, volume_imbalance_values, R_values)\n",
    "    shape_params = [alpha, beta]\n",
    "\n",
    "    return shape_params"
   ],
   "metadata": {
    "collapsed": false,
    "ExecuteTime": {
     "start_time": "2023-12-11T05:55:09.507686Z",
     "end_time": "2023-12-11T05:55:09.542993Z"
    }
   }
  },
  {
   "cell_type": "code",
   "execution_count": 132,
   "outputs": [
    {
     "name": "stdout",
     "output_type": "stream",
     "text": [
      "alpha: 0.4070916698617473\n",
      "beta: 3.7118851913541935\n"
     ]
    }
   ],
   "source": [
    "alpha, beta = find_shape_parameters_inverse(normalized_data)\n",
    "print(f'alpha: {alpha}')\n",
    "print(f'beta: {beta}')"
   ],
   "metadata": {
    "collapsed": false,
    "ExecuteTime": {
     "start_time": "2023-12-11T05:55:09.522583Z",
     "end_time": "2023-12-11T05:55:15.971022Z"
    }
   }
  },
  {
   "cell_type": "code",
   "execution_count": 133,
   "outputs": [
    {
     "data": {
      "text/plain": "                    event_timestamp  midprice  sign  signed_volume  daily_R1  \\\n0     2017-01-03 10:30:01.413328333     0.000     1            100  0.035696   \n1     2017-01-03 10:30:10.132729215   755.935    -1            -31  0.035696   \n2     2017-01-03 10:30:12.175154801   756.150    -1           -100  0.035696   \n3     2017-01-03 10:30:12.339765159   756.155    -1           -100  0.035696   \n4     2017-01-03 10:30:13.431796025   756.165    -1           -100  0.035696   \n...                             ...       ...   ...            ...       ...   \n16400 2017-12-29 14:33:01.629432288  1172.820    -1             -4 -0.014813   \n16401 2017-12-29 14:38:41.326765524  1171.630    -1            -10 -0.014813   \n16402 2017-12-29 14:43:41.526037612  1170.715     1            100 -0.014813   \n16403 2017-12-29 14:49:18.138741331  1170.220    -1            -99 -0.014813   \n16404 2017-12-29 14:54:32.683658302  1169.710    -1           -100 -0.014813   \n\n       daily_vol  daily_num  volume_imbalance  sign_imbalance    T  \\\n0        1166443      16117         -0.000087        0.000000   10   \n1        1166443      16117         -0.000492       -0.000496   10   \n2        1166443      16117         -0.000187       -0.000620   10   \n3        1166443      16117         -0.000505       -0.000620   10   \n4        1166443      16117         -0.000385       -0.000620   10   \n...          ...        ...               ...             ...  ...   \n16400     564276      15104          0.012545        0.003178  240   \n16401     564276      15104          0.015009        0.006621  240   \n16402     564276      15104          0.001965        0.002251  240   \n16403     564276      15104         -0.003009        0.001192  240   \n16404     564276      15104          0.000581       -0.002781  240   \n\n                  R  \n0      21176.744064  \n1          6.023005  \n2          0.140070  \n3          0.280140  \n4          0.000000  \n...             ...  \n16400    -80.335039  \n16401    -61.770219  \n16402    -33.416676  \n16403    -34.429303  \n16404      0.000000  \n\n[1486671 rows x 11 columns]",
      "text/html": "<div>\n<style scoped>\n    .dataframe tbody tr th:only-of-type {\n        vertical-align: middle;\n    }\n\n    .dataframe tbody tr th {\n        vertical-align: top;\n    }\n\n    .dataframe thead th {\n        text-align: right;\n    }\n</style>\n<table border=\"1\" class=\"dataframe\">\n  <thead>\n    <tr style=\"text-align: right;\">\n      <th></th>\n      <th>event_timestamp</th>\n      <th>midprice</th>\n      <th>sign</th>\n      <th>signed_volume</th>\n      <th>daily_R1</th>\n      <th>daily_vol</th>\n      <th>daily_num</th>\n      <th>volume_imbalance</th>\n      <th>sign_imbalance</th>\n      <th>T</th>\n      <th>R</th>\n    </tr>\n  </thead>\n  <tbody>\n    <tr>\n      <th>0</th>\n      <td>2017-01-03 10:30:01.413328333</td>\n      <td>0.000</td>\n      <td>1</td>\n      <td>100</td>\n      <td>0.035696</td>\n      <td>1166443</td>\n      <td>16117</td>\n      <td>-0.000087</td>\n      <td>0.000000</td>\n      <td>10</td>\n      <td>21176.744064</td>\n    </tr>\n    <tr>\n      <th>1</th>\n      <td>2017-01-03 10:30:10.132729215</td>\n      <td>755.935</td>\n      <td>-1</td>\n      <td>-31</td>\n      <td>0.035696</td>\n      <td>1166443</td>\n      <td>16117</td>\n      <td>-0.000492</td>\n      <td>-0.000496</td>\n      <td>10</td>\n      <td>6.023005</td>\n    </tr>\n    <tr>\n      <th>2</th>\n      <td>2017-01-03 10:30:12.175154801</td>\n      <td>756.150</td>\n      <td>-1</td>\n      <td>-100</td>\n      <td>0.035696</td>\n      <td>1166443</td>\n      <td>16117</td>\n      <td>-0.000187</td>\n      <td>-0.000620</td>\n      <td>10</td>\n      <td>0.140070</td>\n    </tr>\n    <tr>\n      <th>3</th>\n      <td>2017-01-03 10:30:12.339765159</td>\n      <td>756.155</td>\n      <td>-1</td>\n      <td>-100</td>\n      <td>0.035696</td>\n      <td>1166443</td>\n      <td>16117</td>\n      <td>-0.000505</td>\n      <td>-0.000620</td>\n      <td>10</td>\n      <td>0.280140</td>\n    </tr>\n    <tr>\n      <th>4</th>\n      <td>2017-01-03 10:30:13.431796025</td>\n      <td>756.165</td>\n      <td>-1</td>\n      <td>-100</td>\n      <td>0.035696</td>\n      <td>1166443</td>\n      <td>16117</td>\n      <td>-0.000385</td>\n      <td>-0.000620</td>\n      <td>10</td>\n      <td>0.000000</td>\n    </tr>\n    <tr>\n      <th>...</th>\n      <td>...</td>\n      <td>...</td>\n      <td>...</td>\n      <td>...</td>\n      <td>...</td>\n      <td>...</td>\n      <td>...</td>\n      <td>...</td>\n      <td>...</td>\n      <td>...</td>\n      <td>...</td>\n    </tr>\n    <tr>\n      <th>16400</th>\n      <td>2017-12-29 14:33:01.629432288</td>\n      <td>1172.820</td>\n      <td>-1</td>\n      <td>-4</td>\n      <td>-0.014813</td>\n      <td>564276</td>\n      <td>15104</td>\n      <td>0.012545</td>\n      <td>0.003178</td>\n      <td>240</td>\n      <td>-80.335039</td>\n    </tr>\n    <tr>\n      <th>16401</th>\n      <td>2017-12-29 14:38:41.326765524</td>\n      <td>1171.630</td>\n      <td>-1</td>\n      <td>-10</td>\n      <td>-0.014813</td>\n      <td>564276</td>\n      <td>15104</td>\n      <td>0.015009</td>\n      <td>0.006621</td>\n      <td>240</td>\n      <td>-61.770219</td>\n    </tr>\n    <tr>\n      <th>16402</th>\n      <td>2017-12-29 14:43:41.526037612</td>\n      <td>1170.715</td>\n      <td>1</td>\n      <td>100</td>\n      <td>-0.014813</td>\n      <td>564276</td>\n      <td>15104</td>\n      <td>0.001965</td>\n      <td>0.002251</td>\n      <td>240</td>\n      <td>-33.416676</td>\n    </tr>\n    <tr>\n      <th>16403</th>\n      <td>2017-12-29 14:49:18.138741331</td>\n      <td>1170.220</td>\n      <td>-1</td>\n      <td>-99</td>\n      <td>-0.014813</td>\n      <td>564276</td>\n      <td>15104</td>\n      <td>-0.003009</td>\n      <td>0.001192</td>\n      <td>240</td>\n      <td>-34.429303</td>\n    </tr>\n    <tr>\n      <th>16404</th>\n      <td>2017-12-29 14:54:32.683658302</td>\n      <td>1169.710</td>\n      <td>-1</td>\n      <td>-100</td>\n      <td>-0.014813</td>\n      <td>564276</td>\n      <td>15104</td>\n      <td>0.000581</td>\n      <td>-0.002781</td>\n      <td>240</td>\n      <td>0.000000</td>\n    </tr>\n  </tbody>\n</table>\n<p>1486671 rows × 11 columns</p>\n</div>"
     },
     "execution_count": 133,
     "metadata": {},
     "output_type": "execute_result"
    }
   ],
   "source": [
    "normalized_data"
   ],
   "metadata": {
    "collapsed": false,
    "ExecuteTime": {
     "start_time": "2023-12-11T05:55:15.967132Z",
     "end_time": "2023-12-11T05:55:16.020284Z"
    }
   }
  },
  {
   "cell_type": "code",
   "execution_count": 133,
   "outputs": [],
   "source": [],
   "metadata": {
    "collapsed": false,
    "ExecuteTime": {
     "start_time": "2023-12-11T05:55:16.019582Z",
     "end_time": "2023-12-11T05:55:16.025658Z"
    }
   }
  },
  {
   "cell_type": "markdown",
   "source": [
    "### $2.$ Map out scale factors $V_T$ and $R_T$ and determine thier behaviour.\n",
    "\n",
    "In order to determine the scaling hehaviour and rescaling exponents $\\chi$ and $\\varkappa$ that follow, the shape of RN(\\Delta V, T) is fitted for $\\textit{each}$ T using the scaling form Eq. X with the scaling function $\\mathscr{F}(x)$ given by Eq. X whilst keeping the preveously found values values of $\\alpha$ nad $\\beta$ constant. Note that the fitting of the aggregate impact curve that yield  $R_T, Q_T$ for each T did not impose any assumptions on their scaling."
   ],
   "metadata": {
    "collapsed": false
   }
  },
  {
   "cell_type": "code",
   "execution_count": 134,
   "outputs": [
    {
     "name": "stderr",
     "output_type": "stream",
     "text": [
      "/Users/ana_bugaenko/workspace/powerlaw_function/util/goodness_of_fit.py:152: RuntimeWarning: ks_2samp: Exact calculation unsuccessful. Switching to method=asymp.\n",
      "  result = stats.ks_2samp(y_values, model_predictions, alternative=\"two-sided\")\n",
      "/Users/ana_bugaenko/workspace/powerlaw_function/util/goodness_of_fit.py:152: RuntimeWarning: ks_2samp: Exact calculation unsuccessful. Switching to method=asymp.\n",
      "  result = stats.ks_2samp(y_values, model_predictions, alternative=\"two-sided\")\n"
     ]
    }
   ],
   "source": [
    "RN_series, QN_series, RN_fit_object, QN_fit_object, fit_results_per_lag = find_scale_factors(normalized_data, alpha=alpha, beta=beta, inverse_x=True)"
   ],
   "metadata": {
    "collapsed": false,
    "ExecuteTime": {
     "start_time": "2023-12-11T05:55:16.021316Z",
     "end_time": "2023-12-11T05:55:18.235063Z"
    }
   }
  },
  {
   "cell_type": "code",
   "execution_count": 135,
   "outputs": [
    {
     "data": {
      "text/plain": "[]"
     },
     "execution_count": 135,
     "metadata": {},
     "output_type": "execute_result"
    },
    {
     "data": {
      "text/plain": "<Figure size 640x480 with 1 Axes>",
      "image/png": "[encoded data removed]"
     },
     "metadata": {},
     "output_type": "display_data"
    }
   ],
   "source": [
    "# Plot scale factors RN and QN\n",
    "plt.scatter(RN_series['x_values'],RN_series['y_values'])\n",
    "plt.scatter(QN_series['x_values'],QN_series['y_values'])\n",
    "plt.loglog()"
   ],
   "metadata": {
    "collapsed": false,
    "ExecuteTime": {
     "start_time": "2023-12-11T05:55:18.233128Z",
     "end_time": "2023-12-11T05:55:18.391555Z"
    }
   }
  },
  {
   "cell_type": "markdown",
   "source": [
    "#### $2.2.$ From mapped out scale factors, determine scaling exponents $\\chi$ and $\\varkappa$"
   ],
   "metadata": {
    "collapsed": false
   }
  },
  {
   "cell_type": "code",
   "execution_count": 136,
   "outputs": [
    {
     "name": "stdout",
     "output_type": "stream",
     "text": [
      "0.9972570396935709\n",
      "0.9307408165856531\n"
     ]
    }
   ],
   "source": [
    "chi = RN_fit_object.powerlaw.params.alpha\n",
    "kappa = QN_fit_object.powerlaw.params.alpha\n",
    "print(chi)\n",
    "print(kappa)"
   ],
   "metadata": {
    "collapsed": false,
    "ExecuteTime": {
     "start_time": "2023-12-11T05:55:18.389131Z",
     "end_time": "2023-12-11T05:55:18.406034Z"
    }
   }
  },
  {
   "cell_type": "code",
   "execution_count": 137,
   "outputs": [
    {
     "name": "stdout",
     "output_type": "stream",
     "text": [
      "\n",
      "For powerlaw fitted using MLE:\n",
      "\n",
      "Pre-fitting parameters;\n",
      "xmin_index: 10\n",
      "xmin: 110.0\n",
      "\n",
      "Fitting parameters;\n",
      "param_names = ['C', 'alpha']\n",
      "C = 0.18286461474501675\n",
      "alpha = 0.9972570396935709\n",
      "\n",
      "Goodness of fit to data;\n",
      "D = 0.07142857142857142\n",
      "bic = -78.95711253641451\n",
      "mape = 0.08033906063026405\n",
      "Adjusted R-squared = 0.9999500404329555\n",
      "\n",
      "\n",
      "\n",
      "For powerlaw fitted using MLE:\n",
      "\n",
      "Pre-fitting parameters;\n",
      "xmin_index: 10\n",
      "xmin: 110.0\n",
      "\n",
      "Fitting parameters;\n",
      "param_names = ['C', 'alpha']\n",
      "C = 0.00037151938960851825\n",
      "alpha = 0.9307408165856531\n",
      "\n",
      "Goodness of fit to data;\n",
      "D = 0.07142857142857142\n",
      "bic = -193.94129387136033\n",
      "mape = 1.4051393008614723\n",
      "Adjusted R-squared = 0.9925690775163872\n",
      "\n",
      "\n"
     ]
    },
    {
     "data": {
      "text/plain": "<Figure size 640x480 with 1 Axes>",
      "image/png": "[encoded data removed]"
     },
     "metadata": {},
     "output_type": "display_data"
    },
    {
     "data": {
      "text/plain": "<Figure size 640x480 with 1 Axes>",
      "image/png": "[encoded data removed]"
     },
     "metadata": {},
     "output_type": "display_data"
    }
   ],
   "source": [
    "# Fit results\n",
    "RN_fit_object.powerlaw.fit_results()\n",
    "QN_fit_object.powerlaw.fit_results()\n",
    "RN_fit_object.powerlaw.plot_fit()\n",
    "QN_fit_object.powerlaw.plot_fit()"
   ],
   "metadata": {
    "collapsed": false,
    "ExecuteTime": {
     "start_time": "2023-12-11T05:55:18.403546Z",
     "end_time": "2023-12-11T05:55:20.757303Z"
    }
   }
  },
  {
   "cell_type": "code",
   "execution_count": 137,
   "outputs": [],
   "source": [],
   "metadata": {
    "collapsed": false,
    "ExecuteTime": {
     "start_time": "2023-12-11T05:55:20.753823Z",
     "end_time": "2023-12-11T05:55:20.757425Z"
    }
   }
  },
  {
   "cell_type": "code",
   "execution_count": 138,
   "outputs": [
    {
     "data": {
      "text/plain": "<Figure size 500x200 with 1 Axes>",
      "image/png": "[encoded data removed]"
     },
     "metadata": {},
     "output_type": "display_data"
    }
   ],
   "source": [
    "fig = plt.figure(figsize=(5, 2))\n",
    "ax = fig.gca()\n",
    "\n",
    "exponent = round(RN_fit_object.powerlaw.params.alpha, 3)\n",
    "fit_label = f'$\\chi = {exponent}$'\n",
    "RN_fit_object.powerlaw.plot_fit(fit_kwargs={\"ax\": ax, \"label\": fit_label}, data_kwargs = {\"label\": \"$Raw\\ data$\", \"marker\":\".\", \"linestyle\": \"None\"})\n",
    "ax.tick_params(bottom=True, top=True, left=True, right=True, direction=\"in\", width=0.5, size=3)\n",
    "ax.minorticks_off()\n",
    "\n",
    "legend = ax.legend(markerfirst=False)\n",
    "legend.get_frame().set_edgecolor('w')\n",
    "xlabel = r\"$\\it{Bin\\ size\\ T}$\"\n",
    "ylabel = r\"$R_T$\"\n",
    "ax.set_xlabel(xlabel, fontsize=12)\n",
    "ax.set_ylabel(ylabel, fontsize=12)\n",
    "plt.savefig(\"lo-RN\", dpi=150)\n",
    "plt.show()"
   ],
   "metadata": {
    "collapsed": false,
    "ExecuteTime": {
     "start_time": "2023-12-11T05:55:20.756598Z",
     "end_time": "2023-12-11T05:55:21.004816Z"
    }
   }
  },
  {
   "cell_type": "code",
   "execution_count": 139,
   "outputs": [
    {
     "data": {
      "text/plain": "<Figure size 500x200 with 1 Axes>",
      "image/png": "[encoded data removed]"
     },
     "metadata": {},
     "output_type": "display_data"
    }
   ],
   "source": [
    "fig = plt.figure(figsize=(5, 2))\n",
    "ax = fig.gca()\n",
    "\n",
    "exponent = round(QN_fit_object.powerlaw.params.alpha, 3)\n",
    "fit_label = f'$\\kappa = {exponent}$'\n",
    "QN_fit_object.powerlaw.plot_fit(fit_kwargs={\"ax\": ax, \"label\": fit_label}, data_kwargs = {\"label\": \"$Raw\\ data$\", \"marker\":\".\", \"linestyle\": \"None\"})\n",
    "ax.tick_params(bottom=True, top=True, left=True, right=True, direction=\"in\", width=0.5, size=3)\n",
    "ax.minorticks_off()\n",
    "\n",
    "legend = ax.legend(markerfirst=False)\n",
    "legend.get_frame().set_edgecolor('w')\n",
    "xlabel = r\"$\\it{Bin\\ size\\ T}$\"\n",
    "ylabel = r\"$Q_T$\"\n",
    "ax.set_xlabel(xlabel, fontsize=12)\n",
    "ax.set_ylabel(ylabel, fontsize=12)\n",
    "plt.savefig(\"lo-QN\", dpi=150)\n",
    "plt.show()"
   ],
   "metadata": {
    "collapsed": false,
    "ExecuteTime": {
     "start_time": "2023-12-11T05:55:21.005277Z",
     "end_time": "2023-12-11T05:55:21.696673Z"
    }
   }
  },
  {
   "cell_type": "code",
   "execution_count": 139,
   "outputs": [],
   "source": [],
   "metadata": {
    "collapsed": false,
    "ExecuteTime": {
     "start_time": "2023-12-11T05:55:21.693797Z",
     "end_time": "2023-12-11T05:55:21.696795Z"
    }
   }
  },
  {
   "cell_type": "code",
   "execution_count": 139,
   "outputs": [],
   "source": [],
   "metadata": {
    "collapsed": false,
    "ExecuteTime": {
     "start_time": "2023-12-11T05:55:21.695699Z",
     "end_time": "2023-12-11T05:55:21.700899Z"
    }
   }
  },
  {
   "cell_type": "code",
   "execution_count": 139,
   "outputs": [],
   "source": [],
   "metadata": {
    "collapsed": false,
    "ExecuteTime": {
     "start_time": "2023-12-11T05:55:21.697933Z",
     "end_time": "2023-12-11T05:55:21.701000Z"
    }
   }
  },
  {
   "cell_type": "code",
   "execution_count": 140,
   "outputs": [
    {
     "name": "stdout",
     "output_type": "stream",
     "text": [
      "Power law vs. powerlaw_with_exp_svf\n"
     ]
    },
    {
     "name": "stderr",
     "output_type": "stream",
     "text": [
      "/Users/ana_bugaenko/workspace/powerlaw_function/util/goodness_of_fit.py:152: RuntimeWarning: ks_2samp: Exact calculation unsuccessful. Switching to method=asymp.\n",
      "  result = stats.ks_2samp(y_values, model_predictions, alternative=\"two-sided\")\n"
     ]
    },
    {
     "data": {
      "text/plain": "                    name  xmin_index   xmin  \\\n0               powerlaw          10  110.0   \n1                    OLS          10  110.0   \n2  GeneralisedRegression          10  110.0   \n3       RobustRegression          10  110.0   \n4   exponential_function          10  110.0   \n5     lognormal_function          10  110.0   \n\n                                       fitting param       D       bic  \\\n0  {'param_names': ['C', 'alpha'], 'C': 0.1828646...  0.0714  -78.9571   \n1  {'param_names': ['C', 'alpha'], 'C': 0.1831922...  0.0714  -78.9185   \n2  {'param_names': ['C', 'alpha'], 'C': 0.1831922...  0.0714  -78.9185   \n3  {'param_names': ['C', 'alpha'], 'C': 0.1824145...  0.0714  -78.1761   \n4  {'param_names': ['beta', 'lambda_'], 'beta': 1...  0.0714   -1.0682   \n5  {'param_names': ['mu', 'sigma'], 'mu': 0.0, 's...  1.0000  105.2804   \n\n       mape  adjusted r-squared  \n0    0.0803              1.0000  \n1    0.0833              0.9999  \n2    0.0833              0.9999  \n3    0.0737              0.9999  \n4    2.1456              0.9870  \n5  100.0000            -24.9332  ",
      "text/html": "<div>\n<style scoped>\n    .dataframe tbody tr th:only-of-type {\n        vertical-align: middle;\n    }\n\n    .dataframe tbody tr th {\n        vertical-align: top;\n    }\n\n    .dataframe thead th {\n        text-align: right;\n    }\n</style>\n<table border=\"1\" class=\"dataframe\">\n  <thead>\n    <tr style=\"text-align: right;\">\n      <th></th>\n      <th>name</th>\n      <th>xmin_index</th>\n      <th>xmin</th>\n      <th>fitting param</th>\n      <th>D</th>\n      <th>bic</th>\n      <th>mape</th>\n      <th>adjusted r-squared</th>\n    </tr>\n  </thead>\n  <tbody>\n    <tr>\n      <th>0</th>\n      <td>powerlaw</td>\n      <td>10</td>\n      <td>110.0</td>\n      <td>{'param_names': ['C', 'alpha'], 'C': 0.1828646...</td>\n      <td>0.0714</td>\n      <td>-78.9571</td>\n      <td>0.0803</td>\n      <td>1.0000</td>\n    </tr>\n    <tr>\n      <th>1</th>\n      <td>OLS</td>\n      <td>10</td>\n      <td>110.0</td>\n      <td>{'param_names': ['C', 'alpha'], 'C': 0.1831922...</td>\n      <td>0.0714</td>\n      <td>-78.9185</td>\n      <td>0.0833</td>\n      <td>0.9999</td>\n    </tr>\n    <tr>\n      <th>2</th>\n      <td>GeneralisedRegression</td>\n      <td>10</td>\n      <td>110.0</td>\n      <td>{'param_names': ['C', 'alpha'], 'C': 0.1831922...</td>\n      <td>0.0714</td>\n      <td>-78.9185</td>\n      <td>0.0833</td>\n      <td>0.9999</td>\n    </tr>\n    <tr>\n      <th>3</th>\n      <td>RobustRegression</td>\n      <td>10</td>\n      <td>110.0</td>\n      <td>{'param_names': ['C', 'alpha'], 'C': 0.1824145...</td>\n      <td>0.0714</td>\n      <td>-78.1761</td>\n      <td>0.0737</td>\n      <td>0.9999</td>\n    </tr>\n    <tr>\n      <th>4</th>\n      <td>exponential_function</td>\n      <td>10</td>\n      <td>110.0</td>\n      <td>{'param_names': ['beta', 'lambda_'], 'beta': 1...</td>\n      <td>0.0714</td>\n      <td>-1.0682</td>\n      <td>2.1456</td>\n      <td>0.9870</td>\n    </tr>\n    <tr>\n      <th>5</th>\n      <td>lognormal_function</td>\n      <td>10</td>\n      <td>110.0</td>\n      <td>{'param_names': ['mu', 'sigma'], 'mu': 0.0, 's...</td>\n      <td>1.0000</td>\n      <td>105.2804</td>\n      <td>100.0000</td>\n      <td>-24.9332</td>\n    </tr>\n  </tbody>\n</table>\n</div>"
     },
     "execution_count": 140,
     "metadata": {},
     "output_type": "execute_result"
    }
   ],
   "source": [
    "# Compare against alternative heavy-tailed hypothesis\n",
    "print(\"Power law vs. powerlaw_with_exp_svf\")\n",
    "R, p = RN_fit_object.function_compare(\"powerlaw\", \"exponential_function\")\n",
    "R, p = RN_fit_object.function_compare(\"powerlaw\", \"lognormal_function\")\n",
    "\n",
    "RN_fit_object.return_all_fitting_results()"
   ],
   "metadata": {
    "collapsed": false,
    "ExecuteTime": {
     "start_time": "2023-12-11T05:55:21.700159Z",
     "end_time": "2023-12-11T05:55:21.737601Z"
    }
   }
  },
  {
   "cell_type": "code",
   "execution_count": 141,
   "outputs": [
    {
     "name": "stdout",
     "output_type": "stream",
     "text": [
      "Power law vs. powerlaw_with_exp_svf\n"
     ]
    },
    {
     "name": "stderr",
     "output_type": "stream",
     "text": [
      "/Users/ana_bugaenko/workspace/powerlaw_function/util/goodness_of_fit.py:152: RuntimeWarning: ks_2samp: Exact calculation unsuccessful. Switching to method=asymp.\n",
      "  result = stats.ks_2samp(y_values, model_predictions, alternative=\"two-sided\")\n"
     ]
    },
    {
     "data": {
      "text/plain": "                    name  xmin_index   xmin  \\\n0               powerlaw          10  110.0   \n1                    OLS          10  110.0   \n2  GeneralisedRegression          10  110.0   \n3       RobustRegression          10  110.0   \n4   exponential_function          10  110.0   \n5     lognormal_function          10  110.0   \n\n                                       fitting param       D       bic  \\\n0  {'param_names': ['C', 'alpha'], 'C': 0.0003715...  0.0714 -193.9413   \n1  {'param_names': ['C', 'alpha'], 'C': 0.0003754...  0.0714 -193.9271   \n2  {'param_names': ['C', 'alpha'], 'C': 0.0003754...  0.0714 -193.9271   \n3  {'param_names': ['C', 'alpha'], 'C': 0.0003754...  0.0714 -193.9271   \n4  {'param_names': ['beta', 'lambda_'], 'beta': 0...  0.0714 -180.0762   \n5  {'param_names': ['mu', 'sigma'], 'mu': 0.0, 's...  1.0000  -78.0386   \n\n       mape  adjusted r-squared  \n0    1.4051              0.9926  \n1    1.4077              0.9926  \n2    1.4077              0.9926  \n3    1.4077              0.9926  \n4    2.5868              0.9800  \n5  100.0000            -28.2728  ",
      "text/html": "<div>\n<style scoped>\n    .dataframe tbody tr th:only-of-type {\n        vertical-align: middle;\n    }\n\n    .dataframe tbody tr th {\n        vertical-align: top;\n    }\n\n    .dataframe thead th {\n        text-align: right;\n    }\n</style>\n<table border=\"1\" class=\"dataframe\">\n  <thead>\n    <tr style=\"text-align: right;\">\n      <th></th>\n      <th>name</th>\n      <th>xmin_index</th>\n      <th>xmin</th>\n      <th>fitting param</th>\n      <th>D</th>\n      <th>bic</th>\n      <th>mape</th>\n      <th>adjusted r-squared</th>\n    </tr>\n  </thead>\n  <tbody>\n    <tr>\n      <th>0</th>\n      <td>powerlaw</td>\n      <td>10</td>\n      <td>110.0</td>\n      <td>{'param_names': ['C', 'alpha'], 'C': 0.0003715...</td>\n      <td>0.0714</td>\n      <td>-193.9413</td>\n      <td>1.4051</td>\n      <td>0.9926</td>\n    </tr>\n    <tr>\n      <th>1</th>\n      <td>OLS</td>\n      <td>10</td>\n      <td>110.0</td>\n      <td>{'param_names': ['C', 'alpha'], 'C': 0.0003754...</td>\n      <td>0.0714</td>\n      <td>-193.9271</td>\n      <td>1.4077</td>\n      <td>0.9926</td>\n    </tr>\n    <tr>\n      <th>2</th>\n      <td>GeneralisedRegression</td>\n      <td>10</td>\n      <td>110.0</td>\n      <td>{'param_names': ['C', 'alpha'], 'C': 0.0003754...</td>\n      <td>0.0714</td>\n      <td>-193.9271</td>\n      <td>1.4077</td>\n      <td>0.9926</td>\n    </tr>\n    <tr>\n      <th>3</th>\n      <td>RobustRegression</td>\n      <td>10</td>\n      <td>110.0</td>\n      <td>{'param_names': ['C', 'alpha'], 'C': 0.0003754...</td>\n      <td>0.0714</td>\n      <td>-193.9271</td>\n      <td>1.4077</td>\n      <td>0.9926</td>\n    </tr>\n    <tr>\n      <th>4</th>\n      <td>exponential_function</td>\n      <td>10</td>\n      <td>110.0</td>\n      <td>{'param_names': ['beta', 'lambda_'], 'beta': 0...</td>\n      <td>0.0714</td>\n      <td>-180.0762</td>\n      <td>2.5868</td>\n      <td>0.9800</td>\n    </tr>\n    <tr>\n      <th>5</th>\n      <td>lognormal_function</td>\n      <td>10</td>\n      <td>110.0</td>\n      <td>{'param_names': ['mu', 'sigma'], 'mu': 0.0, 's...</td>\n      <td>1.0000</td>\n      <td>-78.0386</td>\n      <td>100.0000</td>\n      <td>-28.2728</td>\n    </tr>\n  </tbody>\n</table>\n</div>"
     },
     "execution_count": 141,
     "metadata": {},
     "output_type": "execute_result"
    }
   ],
   "source": [
    "# Compare against alternative heavy-tailed hypothesis\n",
    "print(\"Power law vs. powerlaw_with_exp_svf\")\n",
    "R, p = QN_fit_object.function_compare(\"powerlaw\", \"exponential_function\")\n",
    "R, p = QN_fit_object.function_compare(\"powerlaw\", \"lognormal_function\")\n",
    "\n",
    "QN_fit_object.return_all_fitting_results()"
   ],
   "metadata": {
    "collapsed": false,
    "ExecuteTime": {
     "start_time": "2023-12-11T05:55:21.732002Z",
     "end_time": "2023-12-11T05:55:21.807474Z"
    }
   }
  },
  {
   "cell_type": "markdown",
   "source": [
    "### $3.1$ Plot the scaling law before and after the transforming\n",
    "\n",
    "We can now substitute the found emeprical scaling laws for RN and QN and use this law fit the final shape parameters $\\alpha$ and $\\beta$, and rescaling exponents $\\chi$ and $\\varkappa$."
   ],
   "metadata": {
    "collapsed": false
   }
  },
  {
   "cell_type": "code",
   "execution_count": 142,
   "outputs": [],
   "source": [
    "from market_impact.response_functions.fss import fit_scaling_law\n",
    "from market_impact.response_functions.functional_form import scaling_function, scaling_law\n",
    "\n",
    "# Plot final rescaled functions\n",
    "OBSERVATION_WINDOWS = [x for x in OBSERVATION_WINDOWS if x in QN_series['x_values'].values]\n",
    "\n",
    "# Smooth data for plotting purposes\n",
    "smoothed_data = smooth_outliers(normalized_data.copy())\n",
    "\n",
    "fit_param = {}\n",
    "for T in OBSERVATION_WINDOWS:\n",
    "    data = normalized_data[normalized_data['T']==T][[\"T\", \"volume_imbalance\", \"R\"]]\n",
    "    data.replace([np.inf, -np.inf], np.nan, inplace=True)\n",
    "    data.dropna(inplace=True)\n",
    "\n",
    "    binned_data = bin_data_into_quantiles(data, q=len(BIN_SIZE), duplicates=\"drop\")\n",
    "\n",
    "    T_values = binned_data['T'].values\n",
    "    volume_imbalance = binned_data['volume_imbalance'].values\n",
    "    R_values = binned_data['R'].values\n",
    "\n",
    "    params = fit_scaling_law(T_values, -volume_imbalance, R_values)\n",
    "    fit_param[T] = params"
   ],
   "metadata": {
    "collapsed": false,
    "ExecuteTime": {
     "start_time": "2023-12-11T05:55:21.761744Z",
     "end_time": "2023-12-11T05:55:22.476796Z"
    }
   }
  },
  {
   "cell_type": "code",
   "execution_count": 143,
   "outputs": [
    {
     "data": {
      "text/plain": "{10: array([ 2.59012913e+01, -3.34482727e+01,  6.64745223e-03,  9.21565502e-01,\n         6.70429270e+00]),\n 20: array([  0.45304276,  -2.67501543, 107.3195529 ,   0.73228349,\n          0.97861836]),\n 50: array([ 0.56366519, -1.79167979,  2.10209184,  0.84676442,  0.94000621]),\n 100: array([ 0.53547148, -1.31645155, 25.51566729,  0.56943667,  0.93034682])}"
     },
     "execution_count": 143,
     "metadata": {},
     "output_type": "execute_result"
    }
   ],
   "source": [
    "fit_param"
   ],
   "metadata": {
    "collapsed": false,
    "ExecuteTime": {
     "start_time": "2023-12-11T05:55:22.477315Z",
     "end_time": "2023-12-11T05:55:22.494915Z"
    }
   }
  },
  {
   "cell_type": "code",
   "execution_count": 144,
   "outputs": [
    {
     "data": {
      "text/plain": "<Figure size 500x400 with 1 Axes>",
      "image/png": "[encoded data removed]"
     },
     "metadata": {},
     "output_type": "display_data"
    }
   ],
   "source": [
    "fig = plt.figure(figsize=(5, 4))\n",
    "ax = fig.gca()\n",
    "\n",
    "# Smooth data for plotting purposes\n",
    "smoothed_data = smooth_outliers(normalized_data.copy())\n",
    "\n",
    "for T, param in fit_param.items():\n",
    "    params = fit_param[T]\n",
    "    data = smoothed_data[smoothed_data['T']==T][[\"T\", \"volume_imbalance\", \"R\"]]\n",
    "    binned_data = bin_data_into_quantiles(data, q=21, duplicates=\"drop\")\n",
    "\n",
    "    T_values = binned_data['T'].values\n",
    "    volume_imbalance_values = binned_data['volume_imbalance'].values\n",
    "    R_values = binned_data['R'].values\n",
    "\n",
    "    # Orderflow imbalance\n",
    "    orderflow_imbalance = pd.DataFrame({'T': T_values, 'volume_imbalance': -volume_imbalance_values})\n",
    "\n",
    "    # Compute the model prediction\n",
    "    model_predictions = scaling_law(orderflow_imbalance, *params)\n",
    "\n",
    "    plt.scatter(volume_imbalance_values, R_values, label=f\"T = {T}\", s=12)\n",
    "    plt.plot(volume_imbalance_values, model_predictions, lw=1)\n",
    "\n",
    "    xlabel = r\"$\\it{\\Delta V^\\prime/V_{D}\\langle{V_D}\\rangle}$\"\n",
    "    ylabel = r\"$\\it{R(\\Delta V^\\prime,T)}$\"\n",
    "    plt.xlabel(xlabel, fontsize=12)\n",
    "    plt.ylabel(ylabel, fontsize=12)\n",
    "\n",
    "    # PLOTTING SETTINGS\n",
    "    ax.tick_params(bottom=True, top=True, left=True, right=True, direction=\"in\", width=0.5, size=3)\n",
    "    ax.minorticks_off()\n",
    "\n",
    "    xlabel = r\"$\\it{\\Delta V^\\prime/V_{D}}$\"\n",
    "    ylabel = r\"$\\it{R(\\Delta V^\\prime,T)/\\mathcal{R}(1)}$\"\n",
    "    plt.xlabel(xlabel, fontsize=12)\n",
    "    plt.ylabel(ylabel, fontsize=12)\n",
    "\n",
    "    plt.locator_params(axis='x', nbins=6)\n",
    "    plt.locator_params(axis='y', nbins=8)\n",
    "\n",
    "\n",
    "legend = ax.legend(markerfirst=False)\n",
    "for indx,T in enumerate(fit_param.keys()):\n",
    "    legend.get_texts()[indx].set_text(f\"$T = {int(T)}$\")\n",
    "\n",
    "legend.markerscale = .3\n",
    "legend.get_frame().set_edgecolor('w')\n",
    "plt.tight_layout()\n",
    "plt.savefig(\"lo-before-col\", dpi=300)"
   ],
   "metadata": {
    "collapsed": false,
    "ExecuteTime": {
     "start_time": "2023-12-11T05:55:22.494003Z",
     "end_time": "2023-12-11T05:55:23.133581Z"
    }
   }
  },
  {
   "cell_type": "markdown",
   "source": [
    "#### $3.1.$ Transformer function\n",
    "The transformer function defines the transformation of our three variables to the new variables $(X, Y)$. It needs the initial values of the shape parameters,  critical exponents $\\chi$ and $\\varkappa$ from the master curve (scaling law) to perform the renormalization by method of least_squares."
   ],
   "metadata": {
    "collapsed": false
   }
  },
  {
   "cell_type": "code",
   "execution_count": 149,
   "outputs": [
    {
     "name": "stderr",
     "output_type": "stream",
     "text": [
      "/Users/ana_bugaenko/workspace/another_workspace/market_impact/market_impact/response_functions/functional_form.py:26: RuntimeWarning: divide by zero encountered in power\n",
      "  return x / np.power(1 + np.power(np.abs(x), alpha), beta / alpha) * CONST\n",
      "/Users/ana_bugaenko/workspace/another_workspace/market_impact/market_impact/response_functions/functional_form.py:26: RuntimeWarning: invalid value encountered in divide\n",
      "  return x / np.power(1 + np.power(np.abs(x), alpha), beta / alpha) * CONST\n"
     ]
    },
    {
     "name": "stdout",
     "output_type": "stream",
     "text": [
      "chi: -16.377472674756046\n",
      "kappa: -30.44847153009319\n",
      "alpha: 0.04727398479977267\n",
      "beta: 0.461390765631285\n",
      "Const: 11.118397911682578\n"
     ]
    }
   ],
   "source": [
    "# Prepare the data for fitting\n",
    "T_values = normalized_data['T'].values\n",
    "volume_imbalance_values = normalized_data['volume_imbalance'].values\n",
    "R_values = normalized_data['R'].values\n",
    "\n",
    "# Fit data for all Ts\n",
    "master_curve_param = fit_scaling_law(T_values, -volume_imbalance_values, R_values)\n",
    "\n",
    "# Retrieve optimized parameters as constants\n",
    "CHI, KAPPA, ALPHA, BETA, CONST = master_curve_param\n",
    "print(f'chi: {CHI}')\n",
    "print(f'kappa: {KAPPA}')\n",
    "print(f'alpha: {ALPHA}')\n",
    "print(f'beta: {BETA}')\n",
    "print(f'Const: {CONST}')\n",
    "\n",
    "rescaled_params = transform(smoothed_data, master_curve_param, BIN_SIZE, reflect_y=True)"
   ],
   "metadata": {
    "collapsed": false,
    "ExecuteTime": {
     "start_time": "2023-12-11T05:58:27.698681Z",
     "end_time": "2023-12-11T05:59:07.914312Z"
    }
   }
  },
  {
   "cell_type": "code",
   "execution_count": 150,
   "outputs": [],
   "source": [
    "rescaled_params = transform(smoothed_data, master_curve_param, BIN_SIZE, reflect_y=True)"
   ],
   "metadata": {
    "collapsed": false,
    "ExecuteTime": {
     "start_time": "2023-12-11T05:59:07.914506Z",
     "end_time": "2023-12-11T05:59:08.327491Z"
    }
   }
  },
  {
   "cell_type": "markdown",
   "source": [
    "We plot a scaling function rescaled by critical paramters $\\chi$ and $\\varkappa$."
   ],
   "metadata": {
    "collapsed": false
   }
  },
  {
   "cell_type": "code",
   "execution_count": 151,
   "outputs": [],
   "source": [
    "from matplotlib import rc\n",
    "import matplotlib.font_manager as font_manager\n",
    "import pylab\n",
    "\n",
    "pylab.rcParams['xtick.major.pad'] = '8'\n",
    "pylab.rcParams['ytick.major.pad'] = '8'\n",
    "rc('text', usetex=True)\n",
    "rc('mathtext', fontset='stix')\n",
    "rc('axes', labelsize='large')\n",
    "plt.rcParams['figure.dpi'] = 100\n",
    "plt.rcParams['text.usetex'] = True\n",
    "plt.rcParams['text.latex.preamble'] = r\"\\usepackage{lmodern} \\usepackage{amssymb}\""
   ],
   "metadata": {
    "collapsed": false,
    "ExecuteTime": {
     "start_time": "2023-12-11T05:59:08.328926Z",
     "end_time": "2023-12-11T05:59:08.344121Z"
    }
   }
  },
  {
   "cell_type": "code",
   "execution_count": 151,
   "outputs": [],
   "source": [],
   "metadata": {
    "collapsed": false,
    "ExecuteTime": {
     "start_time": "2023-12-11T05:59:08.345547Z",
     "end_time": "2023-12-11T05:59:08.348411Z"
    }
   }
  },
  {
   "cell_type": "code",
   "execution_count": 152,
   "outputs": [
    {
     "data": {
      "text/plain": "<Figure size 500x400 with 1 Axes>",
      "image/png": "[encoded data removed]"
     },
     "metadata": {},
     "output_type": "display_data"
    }
   ],
   "source": [
    "fig = plt.figure(figsize=(5, 4))\n",
    "ax = fig.gca()\n",
    "\n",
    "for T, rescaled_param in rescaled_params.items():\n",
    "    params = rescaled_param.params\n",
    "    data = rescaled_param.data\n",
    "    # data = smoothed_data[smoothed_data['T']==T][[\"volume_imbalance\", \"T\", \"R\"]]\n",
    "    binned_data = bin_data_into_quantiles(data, q=31, duplicates=\"drop\")\n",
    "\n",
    "    T_values = binned_data['T'].values\n",
    "    volume_imbalance_values = binned_data['volume_imbalance'].values\n",
    "    R_values = binned_data['R'].values\n",
    "\n",
    "    orderflow_imbalance = pd.DataFrame({'T': T_values, 'volume_imbalance': -volume_imbalance_values})\n",
    "    model_predictions = scaling_law(orderflow_imbalance, *params)\n",
    "\n",
    "    plt.scatter(volume_imbalance_values, R_values, label=f\"T = {T}\", s=12)\n",
    "    plt.plot(volume_imbalance_values, model_predictions)\n",
    "\n",
    "    # PLOTTING SETTINGS\n",
    "    ax.tick_params(bottom=True, top=True, left=True, right=True, direction=\"in\", width=0.5, size=3)\n",
    "    ax.minorticks_off()\n",
    "\n",
    "    xlabel = r\"$\\it{\\Delta V^\\prime/V_{D}T^{\\varkappa}}$\"\n",
    "    ylabel = r\"$\\it{R(\\Delta V^\\prime,T)/\\mathcal{R}(1)T^{\\chi}}$\"\n",
    "    plt.xlabel(xlabel, fontsize=12)\n",
    "    plt.ylabel(ylabel, fontsize=12)\n",
    "\n",
    "    plt.locator_params(axis='x', nbins=6)\n",
    "    plt.locator_params(axis='y', nbins=8)\n",
    "\n",
    "    # plt.ylim(-1.5, 1.5)\n",
    "    # plt.xlim(-0.0004, 0.0004)\n",
    "\n",
    "    # if T == T:\n",
    "    #     plt.plot(volume_imbalance_values, scaling_function(volume_imbalance_values, master_curve_param[2], master_curve_param[3], master_curve_param[4]) * master_curve_param[-1],\n",
    "    #              '-', linewidth=1.2, color='black')\n",
    "\n",
    "legend = ax.legend(markerfirst=False)\n",
    "for indx,T in enumerate(rescaled_params.keys()):\n",
    "    legend.get_texts()[indx].set_text(f\"$T = {int(T)}$\")\n",
    "\n",
    "legend.markerscale = .3\n",
    "legend.get_frame().set_edgecolor('w')\n",
    "plt.tight_layout()\n",
    "plt.savefig(\"lo-collapse\", dpi=300)\n"
   ],
   "metadata": {
    "collapsed": false,
    "ExecuteTime": {
     "start_time": "2023-12-11T05:59:08.349040Z",
     "end_time": "2023-12-11T05:59:22.045204Z"
    }
   }
  },
  {
   "cell_type": "code",
   "execution_count": 148,
   "outputs": [],
   "source": [],
   "metadata": {
    "collapsed": false,
    "ExecuteTime": {
     "start_time": "2023-12-11T05:56:05.189733Z",
     "end_time": "2023-12-11T05:56:05.192961Z"
    }
   }
  }
 ],
 "metadata": {
  "kernelspec": {
   "display_name": "Python 3",
   "language": "python",
   "name": "python3"
  },
  "language_info": {
   "codemirror_mode": {
    "name": "ipython",
    "version": 2
   },
   "file_extension": ".py",
   "mimetype": "text/x-python",
   "name": "python",
   "nbconvert_exporter": "python",
   "pygments_lexer": "ipython2",
   "version": "2.7.6"
  }
 },
 "nbformat": 4,
 "nbformat_minor": 0
}
